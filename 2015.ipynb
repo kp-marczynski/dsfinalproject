{
 "cells": [
  {
   "cell_type": "code",
   "execution_count": null,
   "metadata": {
    "collapsed": true
   },
   "outputs": [],
   "source": [
    "import numpy as np\n",
    "import pandas as pd\n",
    "import re"
   ]
  },
  {
   "cell_type": "code",
   "execution_count": null,
   "metadata": {},
   "outputs": [],
   "source": [
    "number = re.compile('[\\d,]+')\n",
    "def get_first_number(val):\n",
    "    matched = number.match(str(val))\n",
    "    if matched:\n",
    "        return int(matched.group())\n",
    "    else:\n",
    "        return np.nan\n",
    "\n",
    "satisfaction_strs = {\n",
    "    'I love my job': 10,\n",
    "    'I\\'m somewhat satisfied with my job': 7.5,\n",
    "    'I\\'m neither satisfied nor dissatisfied with my job': 5,\n",
    "    'I\\'m somewhat dissatisfied with my job': 2.5,\n",
    "    'I hate my job': 0,\n",
    "}\n",
    "\n",
    "binary_labels_2015 = [\n",
    "    'Lang & Tech',\n",
    "    'Training & Education',\n",
    "    'How can companies improve interview process',\n",
    "    'Why try Stack Overflow Careers',\n",
    "    'Most important aspect of new job opportunity',\n",
    "    'Most annoying about job search',\n",
    "    'Appealing message traits',\n",
    "    'Most urgent info about job opportunity',\n",
    "    'Who do you want to communicate with about a new job opportunity',\n",
    "    'Why use Stack Overflow',\n",
    "    'Why answer',\n",
    "    'Source control used',\n",
    "]\n",
    "\n",
    "numeric_labels_2015 = [\n",
    "    'Age',\n",
    "    'Years IT / Programming Experience',\n",
    "    'Compensation: midpoint'\n",
    "]\n",
    "\n",
    "yes_no_labels_2015 = [\n",
    "    'Changed Jobs in last 12 Months'\n",
    "]\n"
   ]
  },
  {
   "cell_type": "code",
   "execution_count": null,
   "metadata": {},
   "outputs": [],
   "source": [
    "# 2015 preproc\n",
    "data_2015 = pd.read_csv('data/2015.csv')\n",
    "to_drop = [label for label in data_2015 if 'write-in' in label.lower()]\n",
    "\n",
    "data_2015['Job Satisfaction'] = data_2015['Job Satisfaction']\\\n",
    "                                    .map(satisfaction_strs).astype('float')\n",
    "data_2015 = data_2015[data_2015['Job Satisfaction'].notnull()]\n",
    "\n",
    "to_drop.append('Compensation')\n",
    "\n",
    "data_2015['Age'] = data_2015['Age'].map(get_first_number).astype('float')\n",
    "data_2015['gender_M'] = (data_2015['Gender'] == 'Male').astype('int8')\n",
    "data_2015['gender_F'] = (data_2015['Gender'] == 'Female').astype('int8')\n",
    "to_drop.append('Gender')\n",
    "to_drop.append('Prefered Source Control')\n",
    "\n",
    "for key in [key for key in data_2015 if any(label in key for label in binary_labels_2015)]:\n",
    "    data_2015[key] = data_2015[key].notnull().astype('int8')\n",
    "\n",
    "for key in numeric_labels_2015:\n",
    "    data_2015[key] = data_2015[key].map(get_first_number)\n",
    "\n",
    "for key in yes_no_labels_2015:\n",
    "    data_2015[key] = data_2015[key].map({'Yes': 1, 'No': 0}).fillna(0)\n",
    "\n",
    "data_2015.drop(to_drop, axis=1, inplace=True)\n",
    "data_2015 = pd.get_dummies(data_2015)\n",
    "\n",
    "print 'Columns with NaNs:'\n",
    "for key in data_2015:\n",
    "    if data_2015[key].isnull().any():\n",
    "        print key\n",
    "data_2015.fillna(data_2015.mean(), inplace=True)\n",
    "print 'Filling with mean of column'"
   ]
  }
 ],
 "metadata": {
  "kernelspec": {
   "display_name": "Python 2",
   "language": "python",
   "name": "python2"
  },
  "language_info": {
   "codemirror_mode": {
    "name": "ipython",
    "version": 2
   },
   "file_extension": ".py",
   "mimetype": "text/x-python",
   "name": "python",
   "nbconvert_exporter": "python",
   "pygments_lexer": "ipython2",
   "version": "2.7.14"
  }
 },
 "nbformat": 4,
 "nbformat_minor": 2
}
