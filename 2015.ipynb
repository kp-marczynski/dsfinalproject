{
 "cells": [
  {
   "cell_type": "markdown",
   "metadata": {},
   "source": [
    "# Data Science Final Project - EE 379k - sp18 - \n",
    "\n",
    "# Shahshank Kambhampati - skk834, Shrikara Murthy - svm456, Pranav Harathi - , Neil Charles - \n",
    "\n",
    "# Job Satisfaction Prediction"
   ]
  },
  {
   "cell_type": "markdown",
   "metadata": {},
   "source": [
    "## Imports\n",
    "\n",
    "### All hail lord and savior XGB"
   ]
  },
  {
   "cell_type": "code",
   "execution_count": null,
   "metadata": {
    "collapsed": true
   },
   "outputs": [],
   "source": [
    "import numpy as np\n",
    "import pandas as pd\n",
    "import re\n",
    "\n",
    "import xgboost as xgb\n",
    "import matplotlib.pyplot as plt\n",
    "from mpl_toolkits.mplot3d import axes3d\n",
    "from scipy import stats\n",
    "from sklearn.linear_model import RidgeCV, LassoCV, LogisticRegression, Ridge, Lasso\n",
    "from sklearn.cross_decomposition import PLSRegression\n",
    "from sklearn.ensemble import RandomTreesEmbedding, AdaBoostClassifier, AdaBoostRegressor, RandomForestRegressor, RandomForestClassifier, VotingClassifier\n",
    "from sklearn.metrics import make_scorer, roc_auc_score, mean_squared_error, accuracy_score\n",
    "from sklearn.model_selection import LeaveOneOut, train_test_split, GridSearchCV, cross_val_score\n",
    "from sklearn.feature_selection import RFE,RFECV\n",
    "from sklearn.naive_bayes import GaussianNB\n",
    "from sklearn.neighbors import KNeighborsClassifier\n",
    "from sklearn.neural_network import MLPClassifier\n",
    "from sklearn import metrics\n",
    "from sklearn.ensemble import ExtraTreesClassifier, ExtraTreesRegressor\n",
    "from sklearn.feature_selection import SelectKBest,  chi2\n",
    "from sklearn.svm import SVR\n",
    "\n",
    "%config inlinebackend.figure_format = 'retina' \n",
    "%matplotlib inline"
   ]
  },
  {
   "cell_type": "markdown",
   "metadata": {},
   "source": [
    "# Initial Observations about the Data and Pre-Processing"
   ]
  },
  {
   "cell_type": "markdown",
   "metadata": {},
   "source": []
  },
  {
   "cell_type": "code",
   "execution_count": null,
   "metadata": {
    "collapsed": true
   },
   "outputs": [],
   "source": [
    "number = re.compile('[\\d,]+')\n",
    "def get_first_number(val):\n",
    "    matched = number.match(str(val))\n",
    "    if matched:\n",
    "        return int(matched.group())\n",
    "    else:\n",
    "        return np.nan\n",
    "\n",
    "satisfaction_strs = {\n",
    "    'I love my job': 10,\n",
    "    'I\\'m somewhat satisfied with my job': 7.5,\n",
    "    'I\\'m neither satisfied nor dissatisfied with my job': 5,\n",
    "    'I\\'m somewhat dissatisfied with my job': 2.5,\n",
    "    'I hate my job': 0,\n",
    "}\n",
    "\n",
    "binary_labels = [\n",
    "    'Lang & Tech',\n",
    "    'Training & Education',\n",
    "    'How can companies improve interview process',\n",
    "    'Why try Stack Overflow Careers',\n",
    "    'Most important aspect of new job opportunity',\n",
    "    'Most annoying about job search',\n",
    "    'Appealing message traits',\n",
    "    'Most urgent info about job opportunity',\n",
    "    'Who do you want to communicate with about a new job opportunity',\n",
    "    'Why use Stack Overflow',\n",
    "    'Why answer',\n",
    "    'Source control used',\n",
    "]\n",
    "\n",
    "numeric_labels = [\n",
    "    'Age',\n",
    "    'Years IT / Programming Experience',\n",
    "    'Compensation: midpoint'\n",
    "]\n",
    "\n",
    "yes_no_labels = [\n",
    "    'Changed Jobs in last 12 Months'\n",
    "]\n"
   ]
  },
  {
   "cell_type": "code",
   "execution_count": null,
   "metadata": {},
   "outputs": [],
   "source": [
    "# 2015 preproc\n",
    "data = pd.read_csv('data/2015.csv')\n",
    "to_drop = [label for label in data if 'write-in' in label.lower()]\n",
    "\n",
    "data['Job Satisfaction'] = data['Job Satisfaction']\\\n",
    "                                    .map(satisfaction_strs).astype('float')\n",
    "data = data[data['Job Satisfaction'].notnull()]\n",
    "to_drop.append('Country')\n",
    "to_drop.append('Compensation')\n",
    "\n",
    "data['Age'] = data['Age'].map(get_first_number).astype('float')\n",
    "data['gender_M'] = (data['Gender'] == 'Male').astype('int8')\n",
    "data['gender_F'] = (data['Gender'] == 'Female').astype('int8')\n",
    "to_drop.append('Gender')\n",
    "to_drop.append('Prefered Source Control')\n",
    "\n",
    "bin_labels = [key for key in data if any(label in key for label in binary_labels)]\n",
    "data[bin_labels] = data[bin_labels].apply(lambda col: col.notnull().astype('int8'))\n",
    "\n",
    "data[numeric_labels] = data[numeric_labels].applymap(get_first_number)\n",
    "data[yes_no_labels] = data[yes_no_labels]\\\n",
    "                                .apply(lambda col: col.map({'Yes': 1, 'No': 0}))\\\n",
    "                                .fillna(0)\n",
    "\n",
    "data.drop(to_drop, axis=1, inplace=True)\n",
    "data = pd.get_dummies(data)\n",
    "\n",
    "print 'Columns with NaNs:'\n",
    "for key in data:\n",
    "    if data[key].isnull().any():\n",
    "        print key\n",
    "data.fillna(data.mean(), inplace=True)\n",
    "print 'Filling with mean of column'"
   ]
  },
  {
   "cell_type": "code",
   "execution_count": null,
   "metadata": {
    "collapsed": true
   },
   "outputs": [],
   "source": [
    "# data contains a DataFrame with no NaNs, all numbers.\n",
    "# We're trying to predict the \"Job Satisfaction\" column."
   ]
  },
  {
   "cell_type": "code",
   "execution_count": null,
   "metadata": {
    "collapsed": true
   },
   "outputs": [],
   "source": [
    "X = data.drop(['Job Satisfaction'], axis=1)\n",
    "y = data['Job Satisfaction']\n",
    "X_train, X_test, y_train, y_test = train_test_split(X, y, test_size=0.3,stratify=y)#stratify=y\n",
    "scoring = {'mean': make_scorer(mean_squared_error)}"
   ]
  },
  {
   "cell_type": "code",
   "execution_count": null,
   "metadata": {
    "scrolled": true
   },
   "outputs": [],
   "source": [
    "print data.head()"
   ]
  },
  {
   "cell_type": "code",
   "execution_count": null,
   "metadata": {
    "collapsed": true
   },
   "outputs": [],
   "source": [
    "print data.describe()"
   ]
  },
  {
   "cell_type": "code",
   "execution_count": null,
   "metadata": {
    "collapsed": true
   },
   "outputs": [],
   "source": [
    "for i in data.corr():\n",
    "    print i"
   ]
  },
  {
   "cell_type": "code",
   "execution_count": null,
   "metadata": {
    "collapsed": true
   },
   "outputs": [],
   "source": [
    "model = xgb.XGBRegressor()\n",
    "rfe = RFE(model, 100)\n",
    "rfe = rfe.fit(X,y)\n",
    "rfe.transform(X_train)\n",
    "rfe.transform(X_test)"
   ]
  },
  {
   "cell_type": "code",
   "execution_count": null,
   "metadata": {
    "collapsed": true
   },
   "outputs": [],
   "source": [
    "parameters = {\n",
    "    'n_estimators':[160]\n",
    "}\n",
    "modelETC = ExtraTreesRegressor()\n",
    "gridETC = GridSearchCV(modelETC, param_grid=parameters,scoring = scoring, cv=5, refit = 'mean',verbose=1)\n",
    "gridETC.fit(X_train,y_train)\n",
    "print(gridETC.best_params_)\n",
    "#print(modelETC.feature_importances_)\n",
    "etc_preds = gridETC.predict(X_test)\n",
    "print mean_squared_error(y_test,etc_preds)"
   ]
  },
  {
   "cell_type": "code",
   "execution_count": null,
   "metadata": {},
   "outputs": [],
   "source": [
    "print mean_squared_error(y_test,etc_preds)"
   ]
  },
  {
   "cell_type": "code",
   "execution_count": null,
   "metadata": {
    "collapsed": true
   },
   "outputs": [],
   "source": [
    "parameters = { #when use hyperthread, xgboost may become slower\n",
    "              #'objective':['binary:logistic'],\n",
    "             # 'booster':['dart'],\n",
    "               'booster':['gbtree'],\n",
    "              'learning_rate': [.5], #so called `eta` value\n",
    "              'max_depth': [9],#\n",
    "              'min_child_weight': [5],#\n",
    "              'reg_alpha':[.1],\n",
    "              'silent': [0],\n",
    "              'subsample': [.7],\n",
    "              'gamma':[.3],\n",
    "              'colsample_bytree': [.8],\n",
    "              'n_estimators': [100], #number of trees, change it to 1000 for better results\n",
    "              'seed': [1337]\n",
    "}"
   ]
  },
  {
   "cell_type": "code",
   "execution_count": null,
   "metadata": {},
   "outputs": [],
   "source": [
    "xgb_model = xgb.XGBRegressor()\n",
    "#gridXGB = GridSearchCV(xgb_model, param_grid=parameters,scoring = scoring, cv=5, verbose=2, refit = 'mean')\n",
    "#gridXGB.fit(X_train, y_train,eval_metric='rmse')\n",
    "#print(gridXGB.best_params_)\n",
    "#print(grid.score(X_test, y_test))\n",
    "#xgb_preds = gridXGB.predict(X_test)\n",
    "xgb_model.fit(X_train, y_train)\n",
    "xgb_preds = xgb_model.predict(X_test)\n",
    "print mean_squared_error(y_test,xgb_preds)"
   ]
  },
  {
   "cell_type": "code",
   "execution_count": null,
   "metadata": {
    "collapsed": true
   },
   "outputs": [],
   "source": [
    "for pred in xgb_preds:\n",
    "    print pred"
   ]
  },
  {
   "cell_type": "code",
   "execution_count": null,
   "metadata": {
    "collapsed": true
   },
   "outputs": [],
   "source": []
  },
  {
   "cell_type": "code",
   "execution_count": null,
   "metadata": {
    "collapsed": true
   },
   "outputs": [],
   "source": []
  },
  {
   "cell_type": "code",
   "execution_count": null,
   "metadata": {
    "collapsed": true
   },
   "outputs": [],
   "source": []
  }
 ],
 "metadata": {
  "kernelspec": {
   "display_name": "Python 2",
   "language": "python",
   "name": "python2"
  },
  "language_info": {
   "codemirror_mode": {
    "name": "ipython",
    "version": 2
   },
   "file_extension": ".py",
   "mimetype": "text/x-python",
   "name": "python",
   "nbconvert_exporter": "python",
   "pygments_lexer": "ipython2",
   "version": "2.7.14"
  }
 },
 "nbformat": 4,
 "nbformat_minor": 2
}
