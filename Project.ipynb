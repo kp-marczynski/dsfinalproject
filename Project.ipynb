{
 "cells": [
  {
   "cell_type": "code",
   "execution_count": null,
   "metadata": {
    "collapsed": true
   },
   "outputs": [],
   "source": [
    "# There, done. That was easy.\n",
    "# That's all we needed to do, right?\n",
    "import numpy as np\n",
    "import pandas as pd\n",
    "import xgboost as xgb\n",
    "\n",
    "import json\n",
    "import re"
   ]
  },
  {
   "cell_type": "code",
   "execution_count": null,
   "metadata": {
    "collapsed": true
   },
   "outputs": [],
   "source": [
    "# Read in data\n",
    "FIRST = 5 # First year is 2015\n",
    "LAST = 7 # Last year is 2017\n",
    "\n",
    "raw_data = [pd.read_csv('data/201%d.csv' % i) for i in xrange(FIRST, LAST + 1)]\n",
    "\n",
    "years = np.array([np.repeat('201%d' % (i + FIRST,), raw_data[i].shape[0])\n",
    "                  for i in xrange(0, LAST - FIRST + 1)])\n",
    "\n",
    "# raw_data eventually combined into columns in data\n",
    "data = pd.DataFrame({'year': np.hstack(years)})"
   ]
  },
  {
   "cell_type": "code",
   "execution_count": null,
   "metadata": {
    "code_folding": [],
    "collapsed": true
   },
   "outputs": [],
   "source": [
    "# helpers to define how to get columns\n",
    "number = re.compile('\\d+')\n",
    "def get_first_number(val):\n",
    "    matched = number.match(str(val))\n",
    "    if matched:\n",
    "        return int(matched.group())\n",
    "    else:\n",
    "        return np.nan\n",
    "\n",
    "satisfaction_strs = {\n",
    "    'I love my job': 10,\n",
    "    'I\\'m somewhat satisfied with my job': 7.5,\n",
    "    'I\\'m neither satisfied nor dissatisfied with my job': 5\n",
    "    'I\\'m somewhat dissatisfied with my job': 2.5,\n",
    "    'I hate my job': 0,\n",
    "}\n",
    "\n",
    "def get_satisfaction(response):\n",
    "    if type(response) == 'float64':\n",
    "        return response\n",
    "\n",
    "    if response in satisfaction_strs:\n",
    "        return satisfaction_strs[response]\n",
    "\n",
    "    return np.nan"
   ]
  },
  {
   "cell_type": "code",
   "execution_count": null,
   "metadata": {
    "code_folding": [],
    "collapsed": true
   },
   "outputs": [],
   "source": [
    "# define how to get each column\n",
    "colnames = [\n",
    "    {\n",
    "        'new_name': 'jobSatisfaction',\n",
    "        'old_names': [\n",
    "            'Job Satisfaction',\n",
    "            'job_satisfaction',\n",
    "            'JobSatisfaction',\n",
    "        ],\n",
    "        'apply': np.vectorize(get_satisfaction),\n",
    "    },\n",
    "    {\n",
    "        'new_name': 'experience',\n",
    "        'old_names': [\n",
    "            'Years IT / Programming Experience',\n",
    "            'experience_range',\n",
    "            'YearsProgram',\n",
    "        ],\n",
    "        'apply': np.vectorize(get_first_number),\n",
    "    },\n",
    "    {\n",
    "        'new_name': 'salary',\n",
    "        'old_names': [\n",
    "            'Compensation: midpoint',\n",
    "            'salary_midpoint',\n",
    "            'Salary'\n",
    "        ]\n",
    "    },\n",
    "]"
   ]
  },
  {
   "cell_type": "code",
   "execution_count": null,
   "metadata": {
    "collapsed": true
   },
   "outputs": [],
   "source": [
    "# Take previous cell and use information to make the \"data\" dataframe\n",
    "def get_col(data, coldata):\n",
    "    new_col = np.array([dataset[colname]\n",
    "                        for dataset, colname in zip(data, coldata['old_names'])])\n",
    "    if 'apply' in coldata:\n",
    "        new_col = coldata['apply'](new_col)\n",
    "    return np.hstack(new_col)\n",
    "\n",
    "new_cols = {row['new_name']: get_col(raw_data, row) for row in colnames}\n",
    "data = data.assign(**new_cols)"
   ]
  }
 ],
 "metadata": {
  "kernelspec": {
   "display_name": "Python 2",
   "language": "python",
   "name": "python2"
  },
  "language_info": {
   "codemirror_mode": {
    "name": "ipython",
    "version": 2
   },
   "file_extension": ".py",
   "mimetype": "text/x-python",
   "name": "python",
   "nbconvert_exporter": "python",
   "pygments_lexer": "ipython2",
   "version": "2.7.14"
  }
 },
 "nbformat": 4,
 "nbformat_minor": 2
}
