{
 "cells": [
  {
   "cell_type": "code",
   "execution_count": 1,
   "metadata": {
    "collapsed": true
   },
   "outputs": [],
   "source": [
    "import numpy as np\n",
    "import pandas as pd\n",
    "import datetime\n",
    "import re\n",
    "from itertools import chain\n",
    "from sklearn.model_selection import train_test_split, GridSearchCV\n",
    "from sklearn.feature_selection import RFE\n",
    "from sklearn.metrics import mean_squared_error\n",
    "from sklearn.ensemble import BaggingRegressor, AdaBoostRegressor\n",
    "import xgboost as xgb\n",
    "import matplotlib.pyplot as plt\n",
    "\n",
    "from __future__ import print_function"
   ]
  },
  {
   "cell_type": "code",
   "execution_count": 2,
   "metadata": {
    "code_folding": [
     2,
     9,
     18,
     21,
     35,
     43,
     66,
     73,
     119,
     147,
     156,
     161,
     165,
     175,
     183,
     188,
     196,
     205,
     213,
     221,
     229
    ],
    "collapsed": true
   },
   "outputs": [],
   "source": [
    "# Preprocessing data and helpers\n",
    "number = re.compile('[\\d,]+')\n",
    "def get_first_number(val):\n",
    "    matched = number.match(str(val))\n",
    "    if matched:\n",
    "        return int(matched.group().replace(',', ''))\n",
    "    else:\n",
    "        return np.nan\n",
    "\n",
    "def dict_map(dict_to_use):\n",
    "    def mapper(val):\n",
    "        if val in dict_to_use:\n",
    "            return dict_to_use[val]\n",
    "        else:\n",
    "            return np.nan\n",
    "\n",
    "    return mapper\n",
    "\n",
    "def split_list(list_str):\n",
    "    return np.core.defchararray.split(list_str, sep='; ')\n",
    "\n",
    "def userlist_to_cols(col):\n",
    "    list_elems = col.astype('string').apply(split_list)\n",
    "    categories = set(chain.from_iterable(list_elems.values))\n",
    "    categories.discard('nan')\n",
    "    categories = pd.Series(list(categories))\n",
    "    \n",
    "    def category_to_cols(category):\n",
    "        return list_elems.map(lambda user_resp: category in user_resp)\\\n",
    "                         .rename('%s_%s' % (col.name, category))\\\n",
    "                         .astype('int8')\n",
    "    \n",
    "    new_cols = categories.map(category_to_cols)\n",
    "    return pd.concat(new_cols.values, axis=1)\n",
    "\n",
    "def timestr_to_number(timestr):\n",
    "    if timestr == 'Noon':\n",
    "        return 12\n",
    "    elif timestr == 'Midnight':\n",
    "        return 0\n",
    "    else:\n",
    "        return datetime.datetime.strptime(timestr, '%I:%M %p').hour\n",
    "\n",
    "listvals = [\n",
    "    'DeveloperType',\n",
    "    'NonDeveloperType',\n",
    "    'ImportantBenefits',\n",
    "    'JobProfile',\n",
    "    'EducationTypes',\n",
    "    'SelfTaughtTypes',\n",
    "    'CousinEducation',\n",
    "    'HaveWorkedLanguage',\n",
    "    'WantWorkLanguage',\n",
    "    'HaveWorkedFramework',\n",
    "    'WantWorkFramework',\n",
    "    'HaveWorkedDatabase',\n",
    "    'WantWorkDatabase',\n",
    "    'HaveWorkedPlatform',\n",
    "    'WantWorkPlatform',\n",
    "    'IDE',\n",
    "    'Methodology',\n",
    "    'MetricAssess',\n",
    "    'StackOverflowDevices',\n",
    "    'Race',\n",
    "]\n",
    "\n",
    "number_parses = [\n",
    "    'CompanySize',\n",
    "    'YearsProgram',\n",
    "    'YearsCodedJob',\n",
    "    'YearsCodedJobPast',\n",
    "]\n",
    "\n",
    "agree_keys = [\n",
    "    'ExCoderReturn',\n",
    "    'ExCoderNotForMe',\n",
    "    'ExCoderBalance',\n",
    "    'ExCoder10Years',\n",
    "    'ExCoderBelonged',\n",
    "    'ExCoderSkills',\n",
    "    'ExCoderWillNotCode',\n",
    "    'ExCoderActive',\n",
    "    'ProblemSolving',\n",
    "    'BuildingThings',\n",
    "    'LearningNewTech',\n",
    "    'BoringDetails',\n",
    "    'JobSecurity',\n",
    "    'DiversityImportant',\n",
    "    'AnnoyingUI',\n",
    "    'FriendsDevelopers',\n",
    "    'RightWrongWay',\n",
    "    'UnderstandComputers',\n",
    "    'SeriousWork',\n",
    "    'InvestTimeTools',\n",
    "    'WorkPayCare',\n",
    "    'KinshipDevelopers',\n",
    "    'ChallengeMyself',\n",
    "    'CompetePeers',\n",
    "    'ChangeWorld',\n",
    "    'ShipIt',\n",
    "    'OtherPeoplesCode',\n",
    "    'ProjectManagement',\n",
    "    'EnjoyDebugging',\n",
    "    'InTheZone',\n",
    "    'CollaborateRemote',\n",
    "    'StackOverflowAdsRelevant',\n",
    "    'StackOverflowAdsDistracting',\n",
    "    'StackOverflowModeration',\n",
    "    'StackOverflowCommunity',\n",
    "    'StackOverflowHelpful',\n",
    "    'StackOverflowBetter',\n",
    "    'StackOverflowWhatDo',\n",
    "    'StackOverflowMakeMoney',\n",
    "    'SurveyLong',\n",
    "    'QuestionsInteresting',\n",
    "    'QuestionsConfusing',\n",
    "    'InterestedAnswers',\n",
    "]\n",
    "\n",
    "important_keys = [\n",
    "    'AssessJobRole',\n",
    "    'AssessJobExp',\n",
    "    'AssessJobDept',\n",
    "    'AssessJobTech',\n",
    "    'AssessJobProjects',\n",
    "    'AssessJobCompensation',\n",
    "    'AssessJobOffice',\n",
    "    'AssessJobCommute',\n",
    "    'AssessJobRemote',\n",
    "    'AssessJobLeaders',\n",
    "    'AssessJobProfDevel',\n",
    "    'AssessJobDiversity',\n",
    "    'AssessJobProduct',\n",
    "    'AssessJobFinances',\n",
    "    'ImportantHiringAlgorithms',\n",
    "    'ImportantHiringTechExp',\n",
    "    'ImportantHiringCommunication',\n",
    "    'ImportantHiringOpenSource',\n",
    "    'ImportantHiringPMExp',\n",
    "    'ImportantHiringCompanies',\n",
    "    'ImportantHiringTitles',\n",
    "    'ImportantHiringEducation',\n",
    "    'ImportantHiringRep',\n",
    "    'ImportantHiringGettingThingsDone',\n",
    "    'EducationImportant',\n",
    "]\n",
    "\n",
    "satisfied_keys = [\n",
    "    'EquipmentSatisfiedMonitors',\n",
    "    'EquipmentSatisfiedCPU',\n",
    "    'EquipmentSatisfiedRAM',\n",
    "    'EquipmentSatisfiedStorage',\n",
    "    'EquipmentSatisfiedRW',\n",
    "    'InfluenceInternet',\n",
    "]\n",
    "\n",
    "influence_keys = [\n",
    "    'InfluenceWorkstation',\n",
    "    'InfluenceHardware',\n",
    "]\n",
    "\n",
    "yes_no_keys = [\n",
    "    'ClickyKeys',\n",
    "]\n",
    "\n",
    "last_three_months_keys = [\n",
    "    'StackOverflowCopiedCode',\n",
    "    'StackOverflowJobListing',\n",
    "    'StackOverflowCompanyPage',\n",
    "    'StackOverflowJobSearch',\n",
    "    'StackOverflowNewQuestion',\n",
    "    'StackOverflowAnswer',\n",
    "    'StackOverflowMetaChat',\n",
    "]\n",
    "\n",
    "last_three_months_strs = {\n",
    "    'Several times': 5,\n",
    "    'At least once each day': 4,\n",
    "    'At least once each week': 3,\n",
    "    'Once or twice': 2,\n",
    "    \"Haven't done at all\": 1,\n",
    "}\n",
    "\n",
    "yes_no_strs = {\n",
    "    'Yes': 1,\n",
    "    'No': 0,\n",
    "}\n",
    "\n",
    "influence_strs = {\n",
    "    'I am the final decision maker': 5,\n",
    "    'A lot of influence': 4,\n",
    "    'Some influence': 3,\n",
    "    'Not much influence': 2,\n",
    "    'No influence at all': 1,\n",
    "}\n",
    "\n",
    "agree_strs = {\n",
    "    'Strongly Agree': 5,\n",
    "    'Agree': 4,\n",
    "    'Somewhat agree': 3,\n",
    "    'Somewhat disagree': 2,\n",
    "    'Disagree': 1,\n",
    "    'Strongly disagree': 0,\n",
    "}\n",
    "\n",
    "satisfied_strs = {\n",
    "    'Very satisfied': 5,\n",
    "    'Satisfied': 4,\n",
    "    'Somewhat satisfied': 3,\n",
    "    'Not very satisfied': 2,\n",
    "    'Not at all satisfied': 1,\n",
    "}\n",
    "\n",
    "important_strs = {\n",
    "    'Very important': 5,\n",
    "    'Somewhat important': 4,\n",
    "    'Important': 3,\n",
    "    'Not very important': 2,\n",
    "    'Not at all important': 1,\n",
    "}\n",
    "\n",
    "overpaid_strs = {\n",
    "    'Greatly overpaid': 5,\n",
    "    'Somewhat overpaid': 4,\n",
    "    'Neither underpaid nor overpaid': 3,\n",
    "    'Somewhat underpaid': 2,\n",
    "    'Greatly underpaid': 1,\n",
    "}\n",
    "\n",
    "checkin_strs = {\n",
    "    'Never': 5,\n",
    "    'Just a few times over the year': 4,\n",
    "    'A few times a month': 3,\n",
    "    'A few times a week': 2,\n",
    "    'Once a day': 1,\n",
    "    'Multiple times a day': 0,\n",
    "}\n",
    "\n",
    "to_drop = listvals + [\n",
    "    'Gender',\n",
    "    'JobSeekingStatus',\n",
    "    'Respondent',\n",
    "]\n",
    "\n",
    "\n",
    "replacers = [\n",
    "    (influence_keys, influence_strs),\n",
    "    (agree_keys, agree_strs),\n",
    "    (satisfied_keys, satisfied_strs),\n",
    "    (['CheckInCode'], checkin_strs),\n",
    "    (['Overpaid'], overpaid_strs),\n",
    "    (last_three_months_keys, last_three_months_strs),\n",
    "    (important_keys, important_strs),\n",
    "    (yes_no_keys, yes_no_strs),\n",
    "]"
   ]
  },
  {
   "cell_type": "code",
   "execution_count": 3,
   "metadata": {
    "code_folding": [],
    "scrolled": true
   },
   "outputs": [
    {
     "name": "stdout",
     "output_type": "stream",
     "text": [
      "Columns with NaNs:\n",
      "CompanySize\n",
      "YearsProgram\n",
      "YearsCodedJob\n",
      "YearsCodedJobPast\n",
      "CareerSatisfaction\n",
      "ExCoderReturn\n",
      "ExCoderNotForMe\n",
      "ExCoderBalance\n",
      "ExCoder10Years\n",
      "ExCoderBelonged\n",
      "ExCoderSkills\n",
      "ExCoderWillNotCode\n",
      "ExCoderActive\n",
      "ProblemSolving\n",
      "BuildingThings\n",
      "LearningNewTech\n",
      "BoringDetails\n",
      "JobSecurity\n",
      "DiversityImportant\n",
      "AnnoyingUI\n",
      "FriendsDevelopers\n",
      "RightWrongWay\n",
      "UnderstandComputers\n",
      "SeriousWork\n",
      "InvestTimeTools\n",
      "WorkPayCare\n",
      "KinshipDevelopers\n",
      "ChallengeMyself\n",
      "CompetePeers\n",
      "ChangeWorld\n",
      "HoursPerWeek\n",
      "AssessJobRole\n",
      "AssessJobExp\n",
      "AssessJobDept\n",
      "AssessJobTech\n",
      "AssessJobProjects\n",
      "AssessJobCompensation\n",
      "AssessJobOffice\n",
      "AssessJobCommute\n",
      "AssessJobRemote\n",
      "AssessJobLeaders\n",
      "AssessJobProfDevel\n",
      "AssessJobDiversity\n",
      "AssessJobProduct\n",
      "AssessJobFinances\n",
      "ClickyKeys\n",
      "ImportantHiringAlgorithms\n",
      "ImportantHiringTechExp\n",
      "ImportantHiringCommunication\n",
      "ImportantHiringOpenSource\n",
      "ImportantHiringPMExp\n",
      "ImportantHiringCompanies\n",
      "ImportantHiringTitles\n",
      "ImportantHiringEducation\n",
      "ImportantHiringRep\n",
      "ImportantHiringGettingThingsDone\n",
      "Overpaid\n",
      "EducationImportant\n",
      "CheckInCode\n",
      "ShipIt\n",
      "OtherPeoplesCode\n",
      "ProjectManagement\n",
      "EnjoyDebugging\n",
      "InTheZone\n",
      "CollaborateRemote\n",
      "EquipmentSatisfiedMonitors\n",
      "EquipmentSatisfiedCPU\n",
      "EquipmentSatisfiedRAM\n",
      "EquipmentSatisfiedStorage\n",
      "EquipmentSatisfiedRW\n",
      "InfluenceInternet\n",
      "InfluenceWorkstation\n",
      "InfluenceHardware\n",
      "StackOverflowSatisfaction\n",
      "StackOverflowCopiedCode\n",
      "StackOverflowJobListing\n",
      "StackOverflowCompanyPage\n",
      "StackOverflowJobSearch\n",
      "StackOverflowNewQuestion\n",
      "StackOverflowAnswer\n",
      "StackOverflowMetaChat\n",
      "StackOverflowAdsRelevant\n",
      "StackOverflowAdsDistracting\n",
      "StackOverflowModeration\n",
      "StackOverflowCommunity\n",
      "StackOverflowHelpful\n",
      "StackOverflowBetter\n",
      "StackOverflowWhatDo\n",
      "StackOverflowMakeMoney\n",
      "SurveyLong\n",
      "QuestionsInteresting\n",
      "QuestionsConfusing\n",
      "InterestedAnswers\n",
      "Salary\n",
      "ExpectedSalary\n",
      "Filling with mean of column\n"
     ]
    }
   ],
   "source": [
    "# 2017 preproc\n",
    "data = pd.read_csv('data/2017.csv')\n",
    "data = data[data['JobSatisfaction'].notnull()]\n",
    "\n",
    "data['gender_M'] = (data['Gender'] == 'Male').astype('int8')\n",
    "data['gender_F'] = (data['Gender'] == 'Female').astype('int8')\n",
    "\n",
    "for keys, strs in replacers:\n",
    "    data[keys] = data[keys].applymap(dict_map(strs)).astype('float')\n",
    "\n",
    "for index in listvals:\n",
    "    data = pd.concat([data, userlist_to_cols(data[index])], axis=1)\n",
    "\n",
    "data[number_parses] = data[number_parses].applymap(get_first_number).astype('float')\n",
    "\n",
    "data.drop(to_drop, axis=1, inplace=True)\n",
    "data = pd.get_dummies(data)\n",
    "\n",
    "print('Columns with NaNs:')\n",
    "for key in data:\n",
    "    if data[key].isnull().any():\n",
    "        print(key)\n",
    "data.fillna(data.mean(), inplace=True)\n",
    "print('Filling with mean of column')"
   ]
  },
  {
   "cell_type": "code",
   "execution_count": 6,
   "metadata": {},
   "outputs": [
    {
     "data": {
      "text/plain": [
       "['PronounceGIF_Enunciating each letter: \"gee eye eff\"',\n",
       " 'PronounceGIF_Some other way',\n",
       " 'PronounceGIF_With a hard \"g,\" like \"gift\"',\n",
       " 'PronounceGIF_With a soft \"g,\" like \"jiff\"']"
      ]
     },
     "execution_count": 6,
     "metadata": {},
     "output_type": "execute_result"
    }
   ],
   "source": [
    "[label for label in data.columns.values if 'GIF' in label]"
   ]
  },
  {
   "cell_type": "code",
   "execution_count": 46,
   "metadata": {},
   "outputs": [
    {
     "name": "stdout",
     "output_type": "stream",
     "text": [
      "PronounceGIF_Enunciating each letter: \"gee eye eff\" 6.3030155642\n"
     ]
    },
    {
     "data": {
      "image/png": "[encoded data removed]",
      "text/plain": [
       "<matplotlib.figure.Figure at 0x7f18d34d4f90>"
      ]
     },
     "metadata": {},
     "output_type": "display_data"
    },
    {
     "name": "stdout",
     "output_type": "stream",
     "text": [
      "PronounceGIF_Some other way 6.9770773639\n"
     ]
    },
    {
     "data": {
      "image/png": "[encoded data removed]",
      "text/plain": [
       "<matplotlib.figure.Figure at 0x7f18d3007810>"
      ]
     },
     "metadata": {},
     "output_type": "display_data"
    },
    {
     "name": "stdout",
     "output_type": "stream",
     "text": [
      "PronounceGIF_With a hard \"g,\" like \"gift\" 7.0558543954\n"
     ]
    },
    {
     "data": {
      "image/png": "[encoded data removed]",
      "text/plain": [
       "<matplotlib.figure.Figure at 0x7f18d3900110>"
      ]
     },
     "metadata": {},
     "output_type": "display_data"
    },
    {
     "name": "stdout",
     "output_type": "stream",
     "text": [
      "PronounceGIF_With a soft \"g,\" like \"jiff\" 6.82941747573\n"
     ]
    },
    {
     "data": {
      "image/png": "[encoded data removed]",
      "text/plain": [
       "<matplotlib.figure.Figure at 0x7f18d32ae110>"
      ]
     },
     "metadata": {},
     "output_type": "display_data"
    }
   ],
   "source": [
    "gif_cols =  [label for label in data.columns.values if 'GIF' in label]\n",
    "for label in gif_cols:\n",
    "    gif_dats = data['JobSatisfaction'][data[label].astype(bool)]\n",
    "    print(label, gif_dats.mean())\n",
    "    \n",
    "    plt.hist(gif_dats)\n",
    "    plt.xlabel('Job Satisfaction')\n",
    "    plt.ylabel('Frequency')\n",
    "    plt.title(label)\n",
    "\n",
    "    plt.text(1, 0.9 * gif_dats.value_counts().max(), 'mean: ' + str(gif_dats.mean()))\n",
    "    plt.tight_layout()\n",
    "    plt.savefig(label)\n",
    "    plt.show()"
   ]
  },
  {
   "cell_type": "code",
   "execution_count": null,
   "metadata": {
    "collapsed": true,
    "scrolled": true
   },
   "outputs": [],
   "source": [
    "searcher = GridSearchCV(xgb.XGBRegressor(), {\n",
    "    'max_depth': [4], # tested 2,3,4,5,7,9\n",
    "    'min_child_weight': [7], # tested 1,3,5,6,7,8\n",
    "    'gamma': [0], # tested 0,0.1,0.2,1,2\n",
    "    'n_estimators': [15000],\n",
    "    'subsample': [0.8], # tested 0.6,0.7,0.8,0.9\n",
    "    'colsample_bytree': [0.6], # tested 0.5,0.6,0.7,0.8,0.9\n",
    "    'scale_pos_weight': [1],\n",
    "    'reg_alpha': [1], # tested 1e-5, 1e-2, 0.1, 1, 10, 100\n",
    "    'reg_lambda': [100], # tested 1e-5, 1e-2, 0.1, 1, 10, 100\n",
    "    'learning_rate': [0.001],\n",
    "}, cv=3, scoring='neg_mean_squared_error', verbose=1, n_jobs=4, iid=False)\n",
    "\n",
    "searcher.fit(data.drop(['JobSatisfaction'], axis=1), data['JobSatisfaction'])\n",
    "print(searcher.best_params_)\n",
    "print(searcher.best_score_)"
   ]
  },
  {
   "cell_type": "code",
   "execution_count": 17,
   "metadata": {
    "scrolled": true
   },
   "outputs": [
    {
     "name": "stdout",
     "output_type": "stream",
     "text": [
      "Fitting 3 folds for each of 1 candidates, totalling 3 fits\n"
     ]
    },
    {
     "name": "stderr",
     "output_type": "stream",
     "text": [
      "[Parallel(n_jobs=4)]: Done   3 out of   3 | elapsed: 16.1min finished\n"
     ]
    },
    {
     "name": "stdout",
     "output_type": "stream",
     "text": [
      "{'reg_alpha': 1, 'colsample_bytree': 0.6, 'scale_pos_weight': 1, 'learning_rate': 0.01, 'min_child_weight': 7, 'n_estimators': 1500, 'subsample': 0.8, 'reg_lambda': 100, 'max_depth': 4, 'gamma': 0}\n",
      "-2.370254016613398\n"
     ]
    }
   ],
   "source": [
    "searcher = GridSearchCV(xgb.XGBRegressor(), {\n",
    "    'max_depth': [4], # tested 2,3,4,5,7,9\n",
    "    'min_child_weight': [7], # tested 1,3,5,6,7,8\n",
    "    'gamma': [0], # tested 0,0.1,0.2,1,2\n",
    "    'n_estimators': [1500],\n",
    "    'subsample': [0.8], # tested 0.6,0.7,0.8,0.9\n",
    "    'colsample_bytree': [0.6], # tested 0.5,0.6,0.7,0.8,0.9\n",
    "    'scale_pos_weight': [1],\n",
    "    'reg_alpha': [1], # tested 1e-5, 1e-2, 0.1, 1, 10, 100\n",
    "    'reg_lambda': [100], # tested 1e-5, 1e-2, 0.1, 1, 10, 100\n",
    "    'learning_rate': [0.01],\n",
    "}, cv=3, scoring='neg_mean_squared_error', verbose=1, n_jobs=4, iid=False)\n",
    "\n",
    "searcher.fit(data.drop(['JobSatisfaction'], axis=1), data['JobSatisfaction'])\n",
    "print(searcher.best_params_)\n",
    "print(searcher.best_score_)"
   ]
  },
  {
   "cell_type": "code",
   "execution_count": 18,
   "metadata": {
    "scrolled": false
   },
   "outputs": [
    {
     "data": {
      "image/png": "[encoded data removed]",
      "text/plain": [
       "<matplotlib.figure.Figure at 0x7f190f464690>"
      ]
     },
     "metadata": {},
     "output_type": "display_data"
    }
   ],
   "source": [
    "xgb.plot_importance(searcher.best_estimator_, max_num_features=10)\n",
    "plt.show()"
   ]
  },
  {
   "cell_type": "code",
   "execution_count": 25,
   "metadata": {
    "collapsed": true
   },
   "outputs": [],
   "source": [
    "xgb.plot_importance(searcher.best_estimator_, max_num_features=10)\n",
    "plt.tight_layout()\n",
    "plt.savefig('feat_importance.png')"
   ]
  },
  {
   "cell_type": "code",
   "execution_count": null,
   "metadata": {
    "collapsed": true
   },
   "outputs": [],
   "source": [
    "X = data[['CareerSatisfaction',\n",
    "          'HoursPerWeek',\n",
    "          'Overpaid',\n",
    "          'LastNewJob_Less than a year ago',\n",
    "          'InfluenceWorkstation',\n",
    "          'Salary',\n",
    "         ]]\n",
    "y = data['JobSatisfaction']\n",
    "\n",
    "small_model = xgb.XGBRegressor(\n",
    "    max_depth=4,\n",
    "    min_child_weight=7,\n",
    "    gamma=0,\n",
    "    n_estimators=1500,\n",
    "    subsample=0.8,\n",
    "    colsample_bytree=0.6,\n",
    "    scale_pos_weight=1,\n",
    "    reg_alpha=1,\n",
    "    reg_lambda=100,\n",
    "    learning_rate=0.01,\n",
    ")\n",
    "small_model.fit(X, y)\n",
    "small_model._Booster.save_model('output2017.model')"
   ]
  },
  {
   "cell_type": "code",
   "execution_count": null,
   "metadata": {
    "collapsed": true
   },
   "outputs": [],
   "source": [
    "model = xgb.XGBRegressor()\n",
    "rfe = RFE(model, 100, step=5, verbose=2)\n",
    "rfe = rfe.fit(X,y)\n",
    "# rfe.transform(X_train)\n",
    "# rfe.transform(X_test)\n",
    "for feat in np.ma.masked_array(data.columns.values, mask=rfe.support_):\n",
    "    print(feat)"
   ]
  },
  {
   "cell_type": "code",
   "execution_count": 21,
   "metadata": {
    "collapsed": true
   },
   "outputs": [],
   "source": [
    "X = data.drop(['JobSatisfaction'], axis=1)\n",
    "y = data['JobSatisfaction']\n",
    "X_train, X_test, y_train, y_test = train_test_split(X, y, test_size=0.3,stratify=y)"
   ]
  },
  {
   "cell_type": "code",
   "execution_count": 78,
   "metadata": {},
   "outputs": [
    {
     "name": "stdout",
     "output_type": "stream",
     "text": [
      "1.6336085257911848\n",
      "1.2153125214852627\n"
     ]
    }
   ],
   "source": [
    "from sklearn.metrics import mean_absolute_error\n",
    "\n",
    "X = data[['CareerSatisfaction',\n",
    "          'HoursPerWeek',\n",
    "          'Overpaid',\n",
    "          'LastNewJob_Less than a year ago',\n",
    "          'InfluenceWorkstation',\n",
    "          'Salary',\n",
    "         ]]\n",
    "y = data['JobSatisfaction']\n",
    "\n",
    "X_train_sm, X_test_sm, y_train_sm, y_test_sm = train_test_split(X, y, test_size=0.3,stratify=y)\n",
    "\n",
    "from sklearn.linear_model import Lasso\n",
    "small_model = LassoCV(alphas=[0.01, 0.1, 1, 10, 100, 2017])\n",
    "small_model.fit(X_train_sm, y_train_sm)\n",
    "preds = np.clip(small_model.predict(X_test_sm), 0, 10)\n",
    "print(mean_squared_error(preds, y_test_sm) ** 0.5)\n",
    "print(mean_absolute_error(preds, y_test_sm))"
   ]
  },
  {
   "cell_type": "code",
   "execution_count": 22,
   "metadata": {},
   "outputs": [
    {
     "name": "stdout",
     "output_type": "stream",
     "text": [
      "1.5817549514292364\n",
      "1.1667814271294132\n",
      "217.0\n"
     ]
    }
   ],
   "source": [
    "from sklearn.linear_model import RidgeCV\n",
    "from sklearn.metrics import mean_absolute_error\n",
    "ridge = RidgeCV(alphas=[217.0])\n",
    "ridge.fit(X_train, y_train)\n",
    "preds = ridge.predict(X_test)\n",
    "print(mean_squared_error(np.clip(preds, 0, 10), y_test) ** 0.5)\n",
    "print(mean_absolute_error(np.clip(preds, 0, 10), y_test))\n",
    "print(ridge.alpha_)\n",
    "# X_train.columns[np.where(np.abs(ridge.coef_) > 0.1)].values"
   ]
  },
  {
   "cell_type": "code",
   "execution_count": 24,
   "metadata": {},
   "outputs": [
    {
     "name": "stdout",
     "output_type": "stream",
     "text": [
      "1.5922917914227643\n",
      "1.1750242597149847\n",
      "0.01\n"
     ]
    }
   ],
   "source": [
    "from sklearn.linear_model import LassoCV\n",
    "from sklearn.metrics import mean_absolute_error\n",
    "lasso = LassoCV(alphas=[0.01, 0.1, 1, 10, 100, 2017])\n",
    "lasso.fit(X_train, y_train)\n",
    "preds = lasso.predict(X_test)\n",
    "print(mean_squared_error(np.clip(preds, 0, 10), y_test) ** 0.5)\n",
    "print(mean_absolute_error(np.clip(preds, 0, 10), y_test))\n",
    "print(lasso.alpha_)\n",
    "# X_train.columns[np.where(np.abs(lasso.coef_) > 0.1)].values"
   ]
  },
  {
   "cell_type": "code",
   "execution_count": 75,
   "metadata": {},
   "outputs": [
    {
     "name": "stdout",
     "output_type": "stream",
     "text": [
      "Epoch 1/199\n",
      "28263/28263 [==============================] - 6s 212us/step - loss: 5.1788\n",
      "Epoch 2/199\n",
      "28263/28263 [==============================] - 4s 159us/step - loss: 3.7741\n",
      "Epoch 3/199\n",
      "28263/28263 [==============================] - 5s 164us/step - loss: 2.6436\n",
      "Epoch 4/199\n",
      "28263/28263 [==============================] - 5s 167us/step - loss: 2.0259\n",
      "Epoch 5/199\n",
      "28263/28263 [==============================] - 5s 167us/step - loss: 1.8007\n",
      "Epoch 6/199\n",
      "28263/28263 [==============================] - 5s 165us/step - loss: 1.6806\n",
      "Epoch 7/199\n",
      "28263/28263 [==============================] - 5s 164us/step - loss: 1.6606\n",
      "Epoch 8/199\n",
      "28263/28263 [==============================] - 5s 165us/step - loss: 1.6570\n",
      "Epoch 9/199\n",
      "28263/28263 [==============================] - 5s 166us/step - loss: 1.6567\n",
      "Epoch 10/199\n",
      "28263/28263 [==============================] - 4s 156us/step - loss: 1.6566\n",
      "Epoch 11/199\n",
      "28263/28263 [==============================] - 5s 159us/step - loss: 1.6567\n",
      "Epoch 12/199\n",
      "28263/28263 [==============================] - 4s 159us/step - loss: 1.6567\n",
      "Epoch 13/199\n",
      "28263/28263 [==============================] - 5s 161us/step - loss: 1.6566\n",
      "Epoch 14/199\n",
      "28263/28263 [==============================] - 5s 163us/step - loss: 1.6566\n",
      "Epoch 15/199\n",
      "28263/28263 [==============================] - 5s 173us/step - loss: 1.6567\n",
      "Epoch 16/199\n",
      "17000/28263 [=================>............] - ETA: 1s - loss: 1.6550"
     ]
    },
    {
     "ename": "KeyboardInterrupt",
     "evalue": "",
     "output_type": "error",
     "traceback": [
      "\u001b[0;31m---------------------------------------------------------------------------\u001b[0m",
      "\u001b[0;31mKeyboardInterrupt\u001b[0m                         Traceback (most recent call last)",
      "\u001b[0;32m<ipython-input-75-3fc2a9f57ac0>\u001b[0m in \u001b[0;36m<module>\u001b[0;34m()\u001b[0m\n\u001b[1;32m     35\u001b[0m \u001b[0mmodel\u001b[0m\u001b[0;34m.\u001b[0m\u001b[0mcompile\u001b[0m\u001b[0;34m(\u001b[0m\u001b[0mloss\u001b[0m\u001b[0;34m=\u001b[0m\u001b[0;34m'mean_absolute_error'\u001b[0m\u001b[0;34m,\u001b[0m \u001b[0moptimizer\u001b[0m\u001b[0;34m=\u001b[0m\u001b[0mkeras\u001b[0m\u001b[0;34m.\u001b[0m\u001b[0moptimizers\u001b[0m\u001b[0;34m.\u001b[0m\u001b[0mAdam\u001b[0m\u001b[0;34m(\u001b[0m\u001b[0mlr\u001b[0m\u001b[0;34m=\u001b[0m\u001b[0;36m.0001\u001b[0m\u001b[0;34m)\u001b[0m\u001b[0;34m)\u001b[0m\u001b[0;34m\u001b[0m\u001b[0m\n\u001b[1;32m     36\u001b[0m \u001b[0;34m\u001b[0m\u001b[0m\n\u001b[0;32m---> 37\u001b[0;31m \u001b[0mmodel\u001b[0m\u001b[0;34m.\u001b[0m\u001b[0mfit\u001b[0m\u001b[0;34m(\u001b[0m\u001b[0mX_train\u001b[0m\u001b[0;34m,\u001b[0m \u001b[0my_train\u001b[0m\u001b[0;34m,\u001b[0m \u001b[0mepochs\u001b[0m\u001b[0;34m=\u001b[0m\u001b[0;36m199\u001b[0m\u001b[0;34m,\u001b[0m \u001b[0mbatch_size\u001b[0m\u001b[0;34m=\u001b[0m\u001b[0;36m1000\u001b[0m\u001b[0;34m)\u001b[0m\u001b[0;34m\u001b[0m\u001b[0m\n\u001b[0m\u001b[1;32m     38\u001b[0m \u001b[0;34m\u001b[0m\u001b[0m\n\u001b[1;32m     39\u001b[0m \u001b[0mnn_preds\u001b[0m \u001b[0;34m=\u001b[0m \u001b[0mmodel\u001b[0m\u001b[0;34m.\u001b[0m\u001b[0mpredict\u001b[0m\u001b[0;34m(\u001b[0m\u001b[0mX_test\u001b[0m\u001b[0;34m)\u001b[0m\u001b[0;34m\u001b[0m\u001b[0m\n",
      "\u001b[0;32m/home/shashank/.anaconda2/lib/python2.7/site-packages/keras/models.pyc\u001b[0m in \u001b[0;36mfit\u001b[0;34m(self, x, y, batch_size, epochs, verbose, callbacks, validation_split, validation_data, shuffle, class_weight, sample_weight, initial_epoch, steps_per_epoch, validation_steps, **kwargs)\u001b[0m\n\u001b[1;32m    961\u001b[0m                               \u001b[0minitial_epoch\u001b[0m\u001b[0;34m=\u001b[0m\u001b[0minitial_epoch\u001b[0m\u001b[0;34m,\u001b[0m\u001b[0;34m\u001b[0m\u001b[0m\n\u001b[1;32m    962\u001b[0m                               \u001b[0msteps_per_epoch\u001b[0m\u001b[0;34m=\u001b[0m\u001b[0msteps_per_epoch\u001b[0m\u001b[0;34m,\u001b[0m\u001b[0;34m\u001b[0m\u001b[0m\n\u001b[0;32m--> 963\u001b[0;31m                               validation_steps=validation_steps)\n\u001b[0m\u001b[1;32m    964\u001b[0m \u001b[0;34m\u001b[0m\u001b[0m\n\u001b[1;32m    965\u001b[0m     def evaluate(self, x=None, y=None,\n",
      "\u001b[0;32m/home/shashank/.anaconda2/lib/python2.7/site-packages/keras/engine/training.pyc\u001b[0m in \u001b[0;36mfit\u001b[0;34m(self, x, y, batch_size, epochs, verbose, callbacks, validation_split, validation_data, shuffle, class_weight, sample_weight, initial_epoch, steps_per_epoch, validation_steps, **kwargs)\u001b[0m\n\u001b[1;32m   1710\u001b[0m                               \u001b[0minitial_epoch\u001b[0m\u001b[0;34m=\u001b[0m\u001b[0minitial_epoch\u001b[0m\u001b[0;34m,\u001b[0m\u001b[0;34m\u001b[0m\u001b[0m\n\u001b[1;32m   1711\u001b[0m                               \u001b[0msteps_per_epoch\u001b[0m\u001b[0;34m=\u001b[0m\u001b[0msteps_per_epoch\u001b[0m\u001b[0;34m,\u001b[0m\u001b[0;34m\u001b[0m\u001b[0m\n\u001b[0;32m-> 1712\u001b[0;31m                               validation_steps=validation_steps)\n\u001b[0m\u001b[1;32m   1713\u001b[0m \u001b[0;34m\u001b[0m\u001b[0m\n\u001b[1;32m   1714\u001b[0m     def evaluate(self, x=None, y=None,\n",
      "\u001b[0;32m/home/shashank/.anaconda2/lib/python2.7/site-packages/keras/engine/training.pyc\u001b[0m in \u001b[0;36m_fit_loop\u001b[0;34m(self, f, ins, out_labels, batch_size, epochs, verbose, callbacks, val_f, val_ins, shuffle, callback_metrics, initial_epoch, steps_per_epoch, validation_steps)\u001b[0m\n\u001b[1;32m   1233\u001b[0m                         \u001b[0mins_batch\u001b[0m\u001b[0;34m[\u001b[0m\u001b[0mi\u001b[0m\u001b[0;34m]\u001b[0m \u001b[0;34m=\u001b[0m \u001b[0mins_batch\u001b[0m\u001b[0;34m[\u001b[0m\u001b[0mi\u001b[0m\u001b[0;34m]\u001b[0m\u001b[0;34m.\u001b[0m\u001b[0mtoarray\u001b[0m\u001b[0;34m(\u001b[0m\u001b[0;34m)\u001b[0m\u001b[0;34m\u001b[0m\u001b[0m\n\u001b[1;32m   1234\u001b[0m \u001b[0;34m\u001b[0m\u001b[0m\n\u001b[0;32m-> 1235\u001b[0;31m                     \u001b[0mouts\u001b[0m \u001b[0;34m=\u001b[0m \u001b[0mf\u001b[0m\u001b[0;34m(\u001b[0m\u001b[0mins_batch\u001b[0m\u001b[0;34m)\u001b[0m\u001b[0;34m\u001b[0m\u001b[0m\n\u001b[0m\u001b[1;32m   1236\u001b[0m                     \u001b[0;32mif\u001b[0m \u001b[0;32mnot\u001b[0m \u001b[0misinstance\u001b[0m\u001b[0;34m(\u001b[0m\u001b[0mouts\u001b[0m\u001b[0;34m,\u001b[0m \u001b[0mlist\u001b[0m\u001b[0;34m)\u001b[0m\u001b[0;34m:\u001b[0m\u001b[0;34m\u001b[0m\u001b[0m\n\u001b[1;32m   1237\u001b[0m                         \u001b[0mouts\u001b[0m \u001b[0;34m=\u001b[0m \u001b[0;34m[\u001b[0m\u001b[0mouts\u001b[0m\u001b[0;34m]\u001b[0m\u001b[0;34m\u001b[0m\u001b[0m\n",
      "\u001b[0;32m/home/shashank/.anaconda2/lib/python2.7/site-packages/keras/backend/tensorflow_backend.pyc\u001b[0m in \u001b[0;36m__call__\u001b[0;34m(self, inputs)\u001b[0m\n\u001b[1;32m   2473\u001b[0m         \u001b[0msession\u001b[0m \u001b[0;34m=\u001b[0m \u001b[0mget_session\u001b[0m\u001b[0;34m(\u001b[0m\u001b[0;34m)\u001b[0m\u001b[0;34m\u001b[0m\u001b[0m\n\u001b[1;32m   2474\u001b[0m         updated = session.run(fetches=fetches, feed_dict=feed_dict,\n\u001b[0;32m-> 2475\u001b[0;31m                               **self.session_kwargs)\n\u001b[0m\u001b[1;32m   2476\u001b[0m         \u001b[0;32mreturn\u001b[0m \u001b[0mupdated\u001b[0m\u001b[0;34m[\u001b[0m\u001b[0;34m:\u001b[0m\u001b[0mlen\u001b[0m\u001b[0;34m(\u001b[0m\u001b[0mself\u001b[0m\u001b[0;34m.\u001b[0m\u001b[0moutputs\u001b[0m\u001b[0;34m)\u001b[0m\u001b[0;34m]\u001b[0m\u001b[0;34m\u001b[0m\u001b[0m\n\u001b[1;32m   2477\u001b[0m \u001b[0;34m\u001b[0m\u001b[0m\n",
      "\u001b[0;32m/home/shashank/.anaconda2/lib/python2.7/site-packages/tensorflow/python/client/session.pyc\u001b[0m in \u001b[0;36mrun\u001b[0;34m(self, fetches, feed_dict, options, run_metadata)\u001b[0m\n\u001b[1;32m    893\u001b[0m     \u001b[0;32mtry\u001b[0m\u001b[0;34m:\u001b[0m\u001b[0;34m\u001b[0m\u001b[0m\n\u001b[1;32m    894\u001b[0m       result = self._run(None, fetches, feed_dict, options_ptr,\n\u001b[0;32m--> 895\u001b[0;31m                          run_metadata_ptr)\n\u001b[0m\u001b[1;32m    896\u001b[0m       \u001b[0;32mif\u001b[0m \u001b[0mrun_metadata\u001b[0m\u001b[0;34m:\u001b[0m\u001b[0;34m\u001b[0m\u001b[0m\n\u001b[1;32m    897\u001b[0m         \u001b[0mproto_data\u001b[0m \u001b[0;34m=\u001b[0m \u001b[0mtf_session\u001b[0m\u001b[0;34m.\u001b[0m\u001b[0mTF_GetBuffer\u001b[0m\u001b[0;34m(\u001b[0m\u001b[0mrun_metadata_ptr\u001b[0m\u001b[0;34m)\u001b[0m\u001b[0;34m\u001b[0m\u001b[0m\n",
      "\u001b[0;32m/home/shashank/.anaconda2/lib/python2.7/site-packages/tensorflow/python/client/session.pyc\u001b[0m in \u001b[0;36m_run\u001b[0;34m(self, handle, fetches, feed_dict, options, run_metadata)\u001b[0m\n\u001b[1;32m   1126\u001b[0m     \u001b[0;32mif\u001b[0m \u001b[0mfinal_fetches\u001b[0m \u001b[0;32mor\u001b[0m \u001b[0mfinal_targets\u001b[0m \u001b[0;32mor\u001b[0m \u001b[0;34m(\u001b[0m\u001b[0mhandle\u001b[0m \u001b[0;32mand\u001b[0m \u001b[0mfeed_dict_tensor\u001b[0m\u001b[0;34m)\u001b[0m\u001b[0;34m:\u001b[0m\u001b[0;34m\u001b[0m\u001b[0m\n\u001b[1;32m   1127\u001b[0m       results = self._do_run(handle, final_targets, final_fetches,\n\u001b[0;32m-> 1128\u001b[0;31m                              feed_dict_tensor, options, run_metadata)\n\u001b[0m\u001b[1;32m   1129\u001b[0m     \u001b[0;32melse\u001b[0m\u001b[0;34m:\u001b[0m\u001b[0;34m\u001b[0m\u001b[0m\n\u001b[1;32m   1130\u001b[0m       \u001b[0mresults\u001b[0m \u001b[0;34m=\u001b[0m \u001b[0;34m[\u001b[0m\u001b[0;34m]\u001b[0m\u001b[0;34m\u001b[0m\u001b[0m\n",
      "\u001b[0;32m/home/shashank/.anaconda2/lib/python2.7/site-packages/tensorflow/python/client/session.pyc\u001b[0m in \u001b[0;36m_do_run\u001b[0;34m(self, handle, target_list, fetch_list, feed_dict, options, run_metadata)\u001b[0m\n\u001b[1;32m   1342\u001b[0m     \u001b[0;32mif\u001b[0m \u001b[0mhandle\u001b[0m \u001b[0;32mis\u001b[0m \u001b[0mNone\u001b[0m\u001b[0;34m:\u001b[0m\u001b[0;34m\u001b[0m\u001b[0m\n\u001b[1;32m   1343\u001b[0m       return self._do_call(_run_fn, self._session, feeds, fetches, targets,\n\u001b[0;32m-> 1344\u001b[0;31m                            options, run_metadata)\n\u001b[0m\u001b[1;32m   1345\u001b[0m     \u001b[0;32melse\u001b[0m\u001b[0;34m:\u001b[0m\u001b[0;34m\u001b[0m\u001b[0m\n\u001b[1;32m   1346\u001b[0m       \u001b[0;32mreturn\u001b[0m \u001b[0mself\u001b[0m\u001b[0;34m.\u001b[0m\u001b[0m_do_call\u001b[0m\u001b[0;34m(\u001b[0m\u001b[0m_prun_fn\u001b[0m\u001b[0;34m,\u001b[0m \u001b[0mself\u001b[0m\u001b[0;34m.\u001b[0m\u001b[0m_session\u001b[0m\u001b[0;34m,\u001b[0m \u001b[0mhandle\u001b[0m\u001b[0;34m,\u001b[0m \u001b[0mfeeds\u001b[0m\u001b[0;34m,\u001b[0m \u001b[0mfetches\u001b[0m\u001b[0;34m)\u001b[0m\u001b[0;34m\u001b[0m\u001b[0m\n",
      "\u001b[0;32m/home/shashank/.anaconda2/lib/python2.7/site-packages/tensorflow/python/client/session.pyc\u001b[0m in \u001b[0;36m_do_call\u001b[0;34m(self, fn, *args)\u001b[0m\n\u001b[1;32m   1348\u001b[0m   \u001b[0;32mdef\u001b[0m \u001b[0m_do_call\u001b[0m\u001b[0;34m(\u001b[0m\u001b[0mself\u001b[0m\u001b[0;34m,\u001b[0m \u001b[0mfn\u001b[0m\u001b[0;34m,\u001b[0m \u001b[0;34m*\u001b[0m\u001b[0margs\u001b[0m\u001b[0;34m)\u001b[0m\u001b[0;34m:\u001b[0m\u001b[0;34m\u001b[0m\u001b[0m\n\u001b[1;32m   1349\u001b[0m     \u001b[0;32mtry\u001b[0m\u001b[0;34m:\u001b[0m\u001b[0;34m\u001b[0m\u001b[0m\n\u001b[0;32m-> 1350\u001b[0;31m       \u001b[0;32mreturn\u001b[0m \u001b[0mfn\u001b[0m\u001b[0;34m(\u001b[0m\u001b[0;34m*\u001b[0m\u001b[0margs\u001b[0m\u001b[0;34m)\u001b[0m\u001b[0;34m\u001b[0m\u001b[0m\n\u001b[0m\u001b[1;32m   1351\u001b[0m     \u001b[0;32mexcept\u001b[0m \u001b[0merrors\u001b[0m\u001b[0;34m.\u001b[0m\u001b[0mOpError\u001b[0m \u001b[0;32mas\u001b[0m \u001b[0me\u001b[0m\u001b[0;34m:\u001b[0m\u001b[0;34m\u001b[0m\u001b[0m\n\u001b[1;32m   1352\u001b[0m       \u001b[0mmessage\u001b[0m \u001b[0;34m=\u001b[0m \u001b[0mcompat\u001b[0m\u001b[0;34m.\u001b[0m\u001b[0mas_text\u001b[0m\u001b[0;34m(\u001b[0m\u001b[0me\u001b[0m\u001b[0;34m.\u001b[0m\u001b[0mmessage\u001b[0m\u001b[0;34m)\u001b[0m\u001b[0;34m\u001b[0m\u001b[0m\n",
      "\u001b[0;32m/home/shashank/.anaconda2/lib/python2.7/site-packages/tensorflow/python/client/session.pyc\u001b[0m in \u001b[0;36m_run_fn\u001b[0;34m(session, feed_dict, fetch_list, target_list, options, run_metadata)\u001b[0m\n\u001b[1;32m   1327\u001b[0m           return tf_session.TF_Run(session, options,\n\u001b[1;32m   1328\u001b[0m                                    \u001b[0mfeed_dict\u001b[0m\u001b[0;34m,\u001b[0m \u001b[0mfetch_list\u001b[0m\u001b[0;34m,\u001b[0m \u001b[0mtarget_list\u001b[0m\u001b[0;34m,\u001b[0m\u001b[0;34m\u001b[0m\u001b[0m\n\u001b[0;32m-> 1329\u001b[0;31m                                    status, run_metadata)\n\u001b[0m\u001b[1;32m   1330\u001b[0m \u001b[0;34m\u001b[0m\u001b[0m\n\u001b[1;32m   1331\u001b[0m     \u001b[0;32mdef\u001b[0m \u001b[0m_prun_fn\u001b[0m\u001b[0;34m(\u001b[0m\u001b[0msession\u001b[0m\u001b[0;34m,\u001b[0m \u001b[0mhandle\u001b[0m\u001b[0;34m,\u001b[0m \u001b[0mfeed_dict\u001b[0m\u001b[0;34m,\u001b[0m \u001b[0mfetch_list\u001b[0m\u001b[0;34m)\u001b[0m\u001b[0;34m:\u001b[0m\u001b[0;34m\u001b[0m\u001b[0m\n",
      "\u001b[0;31mKeyboardInterrupt\u001b[0m: "
     ]
    }
   ],
   "source": [
    "import tensorflow as tf\n",
    "import keras\n",
    "import theano\n",
    "from __future__ import absolute_import\n",
    "from __future__ import division\n",
    "from __future__ import print_function\n",
    "tf.logging.set_verbosity(tf.logging.INFO)\n",
    "np.random.seed(123)  # for reproducibility\n",
    "from keras.models import Sequential\n",
    "from keras.layers import Dense, Dropout, Activation, Flatten\n",
    "from keras.layers import Convolution2D, MaxPooling2D\n",
    "from keras.utils import np_utils\n",
    "from keras.models import Sequential\n",
    "from keras.layers import Dense\n",
    "from keras.wrappers.scikit_learn import KerasRegressor\n",
    "from sklearn.model_selection import cross_val_score\n",
    "from sklearn.model_selection import KFold\n",
    "from sklearn.preprocessing import StandardScaler\n",
    "from sklearn.pipeline import Pipeline\n",
    "\n",
    "np.random.seed(42)  # for reproducibility\n",
    "\n",
    "model = Sequential()\n",
    "model.add(Dense(811, input_dim=811, activation='relu'))\n",
    "#model.add(Dense(200, activation='sigmoid'))\n",
    "model.add(Dense(400, activation='hard_sigmoid'))\n",
    "model.add(Dense(200, activation='hard_sigmoid'))\n",
    "model.add(Dense(100, activation='hard_sigmoid'))\n",
    "#model.add(Dense(50, activation='hard_sigmoid'))\n",
    "#model.add(Dense(40, activation='sigmoid'))\n",
    "#model.add(Dense(10, activation='sigmoid'))\n",
    "#model.add(Dense(5, activation='sigmoid'))\n",
    "model.add(Dense(1, activation='relu'))\n",
    "\n",
    "model.compile(loss='mean_absolute_error', optimizer=keras.optimizers.Adam(lr=.0001))\n",
    "\n",
    "model.fit(X_train, y_train, epochs=199, batch_size=1000)\n",
    "\n",
    "nn_preds = model.predict(X_test)"
   ]
  },
  {
   "cell_type": "code",
   "execution_count": null,
   "metadata": {
    "collapsed": true
   },
   "outputs": [],
   "source": [
    "from sklearn.tree import ExtraTreeRegressor\n",
    "etr = ExtraTreeRegressor(max_depth=10)\n",
    "\n",
    "etr.fit(X_train, y_train)\n",
    "preds = etr.predict(X_test)\n",
    "print(mean_squared_error(np.clip(preds, 0, 10), y_test) ** 0.5)"
   ]
  },
  {
   "cell_type": "code",
   "execution_count": null,
   "metadata": {
    "collapsed": true
   },
   "outputs": [],
   "source": [
    "from sklearn.ensemble import RandomForestRegressor\n",
    "rfr = RandomForestRegressor(max_depth=10, n_estimators=300)\n",
    "\n",
    "rfr.fit(X_train, y_train)\n",
    "preds = rfr.predict(X_test)\n",
    "print(mean_squared_error(np.clip(preds, 0, 10), y_test) ** 0.5)"
   ]
  },
  {
   "cell_type": "code",
   "execution_count": null,
   "metadata": {
    "collapsed": true
   },
   "outputs": [],
   "source": [
    "xgb_model = xgb.XGBRegressor(\n",
    "    max_depth=4,\n",
    "    min_child_weight=7,\n",
    "    gamma=0,\n",
    "    n_estimators=1500,\n",
    "    subsample=0.8,\n",
    "    colsample_bytree=0.6,\n",
    "    scale_pos_weight=1,\n",
    "    reg_alpha=1,\n",
    "    reg_lambda=100,\n",
    "    learning_rate=0.01\n",
    ")\n",
    "\n",
    "ens_model = AdaBoostRegressor(base_estimator=xgb_model)\n",
    "ens_model.fit(X_train, y_train)\n",
    "preds = ens_model.predict(X_test)\n",
    "mean_squared_error(preds, y_test)"
   ]
  },
  {
   "cell_type": "code",
   "execution_count": null,
   "metadata": {
    "collapsed": true
   },
   "outputs": [],
   "source": [
    "# MSE 2.5054\n",
    "xgb_model = xgb.XGBRegressor()\n",
    "xgb_model.fit(X_train, y_train)\n",
    "preds = xgb_model.predict(X_test)\n",
    "mean_squared_error(preds, y_test)"
   ]
  },
  {
   "cell_type": "code",
   "execution_count": null,
   "metadata": {
    "collapsed": true
   },
   "outputs": [],
   "source": [
    "# MSE 2.32575\n",
    "xgb_model = xgb.XGBRegressor(\n",
    "    max_depth=4,\n",
    "    min_child_weight=7,\n",
    "    gamma=0,\n",
    "    n_estimators=15000,\n",
    "    subsample=0.8,\n",
    "    colsample_bytree=0.6,\n",
    "    scale_pos_weight=1,\n",
    "    reg_alpha=1,\n",
    "    reg_lambda=100,\n",
    "    learning_rate=0.001\n",
    ")\n",
    "\n",
    "xgb_model.fit(X_train, y_train)\n",
    "preds = np.clip(xgb_model.predict(X_test), 0, 10)\n",
    "print(mean_squared_error(preds, y_test))"
   ]
  },
  {
   "cell_type": "code",
   "execution_count": null,
   "metadata": {
    "collapsed": true
   },
   "outputs": [],
   "source": [
    "xgb.plot_importance(xgb_model, max_num_features=10)\n",
    "plt.show()"
   ]
  }
 ],
 "metadata": {
  "kernelspec": {
   "display_name": "Python 2",
   "language": "python",
   "name": "python2"
  },
  "language_info": {
   "codemirror_mode": {
    "name": "ipython",
    "version": 2
   },
   "file_extension": ".py",
   "mimetype": "text/x-python",
   "name": "python",
   "nbconvert_exporter": "python",
   "pygments_lexer": "ipython2",
   "version": "2.7.14"
  }
 },
 "nbformat": 4,
 "nbformat_minor": 2
}
