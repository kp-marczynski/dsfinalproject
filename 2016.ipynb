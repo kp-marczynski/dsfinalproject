{
 "cells": [
  {
   "cell_type": "code",
   "execution_count": null,
   "metadata": {
    "collapsed": true
   },
   "outputs": [],
   "source": [
    "import numpy as np\n",
    "import pandas as pd\n",
    "import re\n",
    "from itertools import chain"
   ]
  },
  {
   "cell_type": "code",
   "execution_count": null,
   "metadata": {
    "code_folding": [],
    "collapsed": true
   },
   "outputs": [],
   "source": [
    "# Preprocessing data and helpers\n",
    "number = re.compile('[\\d,]+')\n",
    "def get_first_number(val):\n",
    "    matched = number.match(str(val))\n",
    "    if matched:\n",
    "        return int(matched.group().replace(',', ''))\n",
    "    else:\n",
    "        return np.nan\n",
    "\n",
    "def dict_map(dict_to_use):\n",
    "    def mapper(val):\n",
    "        if val in dict_to_use:\n",
    "            return dict_to_use[val]\n",
    "        else:\n",
    "            return np.nan\n",
    "\n",
    "    return mapper\n",
    "\n",
    "def split_list(list_str):\n",
    "    return np.core.defchararray.split(list_str, sep='; ')\n",
    "\n",
    "def userlist_to_cols(col):\n",
    "    list_elems = col.astype('string').apply(split_list)\n",
    "    categories = set(chain.from_iterable(list_elems.values))\n",
    "    categories.discard('nan')\n",
    "    categories = pd.Series(list(categories))\n",
    "    \n",
    "    def category_to_cols(category):\n",
    "        return list_elems.map(lambda user_resp: category in user_resp)\\\n",
    "                         .rename('%s_%s' % (col.name, category))\\\n",
    "                         .astype('int8')\n",
    "    \n",
    "    new_cols = categories.map(category_to_cols)\n",
    "    return pd.concat(new_cols.values, axis=1)\n",
    "\n",
    "listvals = [\n",
    "    'self_identification',\n",
    "    'tech_do',\n",
    "    'tech_want',\n",
    "    'dev_environment',\n",
    "    'education',\n",
    "    'new_job_value',\n",
    "    'how_to_improve_interview_process',\n",
    "    'developer_challenges',\n",
    "    'why_stack_overflow',\n",
    "]\n",
    "\n",
    "number_parses = [\n",
    "    'company_size_range',\n",
    "    'team_size_range',\n",
    "    'women_on_team',\n",
    "    'hobby',\n",
    "    'rep_range',\n",
    "    'interview_likelihood',\n",
    "]\n",
    "\n",
    "to_drop = [\n",
    "    'age_range',\n",
    "    'experience_range',\n",
    "    'salary_range',\n",
    "]\n",
    "\n",
    "satisfaction_strs = {\n",
    "    'I love my job': 10,\n",
    "    'I\\'m somewhat satisfied with my job': 7.5,\n",
    "    'I\\'m neither satisfied nor dissatisfied with my job': 5,\n",
    "    'I\\'m somewhat dissatisfied with my job': 2.5,\n",
    "    'I hate my job': 0,\n",
    "}\n",
    "\n",
    "agree_strs = {\n",
    "    'Agree completely': 5,\n",
    "    'Agree somewhat': 4,\n",
    "    'Neutral': 3,\n",
    "    'Disagree somewhat': 2,\n",
    "    'Disagree completely': 1,\n",
    "}\n",
    "\n",
    "important_strs = {\n",
    "    'This is very important': 3,\n",
    "    'This is somewhat important': 2,\n",
    "    'I don\\'t care about this': 1,\n",
    "}"
   ]
  },
  {
   "cell_type": "code",
   "execution_count": null,
   "metadata": {
    "code_folding": [],
    "collapsed": true
   },
   "outputs": [],
   "source": [
    "# 2016 preproc\n",
    "data = pd.read_csv('data/2016.csv')\n",
    "data['job_satisfaction'] = data['job_satisfaction']\\\n",
    "                                    .map(satisfaction_strs).astype('float')\n",
    "data = data[data['job_satisfaction'].notnull()]\n",
    "\n",
    "data['gender_M'] = (data['gender'] == 'Male').astype('int8')\n",
    "data['gender_F'] = (data['gender'] == 'Female').astype('int8')\n",
    "to_drop.append('gender')\n",
    "\n",
    "to_drop.extend(listvals)\n",
    "for index in listvals:\n",
    "    data = pd.concat([data, userlist_to_cols(data[index])], axis=1)\n",
    "\n",
    "data[number_parses] = data[number_parses].applymap(get_first_number).astype('float')\n",
    "\n",
    "agree_keys = [index for index in data if 'agree_' in index]\n",
    "data[agree_keys] = data[agree_keys].applymap(dict_map(agree_strs))\n",
    "\n",
    "important_keys = [index for index in data if 'important_' in index]\n",
    "data[important_keys] = data[important_keys].applymap(dict_map(important_strs))\n",
    "\n",
    "data.drop(to_drop, axis=1, inplace=True)\n",
    "data = pd.get_dummies(data)\n",
    "\n",
    "print 'Columns with NaNs:'\n",
    "for key in data:\n",
    "    if data[key].isnull().any():\n",
    "        print key\n",
    "data.fillna(data.mean(), inplace=True)\n",
    "print 'Filling with mean of column'"
   ]
  },
  {
   "cell_type": "code",
   "execution_count": null,
   "metadata": {
    "collapsed": true
   },
   "outputs": [],
   "source": [
    "# data contains a DataFrame with no NaNs, all numbers.\n",
    "# We're trying to predict the \"job_satisfaction\" column."
   ]
  }
 ],
 "metadata": {
  "kernelspec": {
   "display_name": "Python 2",
   "language": "python",
   "name": "python2"
  },
  "language_info": {
   "codemirror_mode": {
    "name": "ipython",
    "version": 2
   },
   "file_extension": ".py",
   "mimetype": "text/x-python",
   "name": "python",
   "nbconvert_exporter": "python",
   "pygments_lexer": "ipython2",
   "version": "2.7.14"
  }
 },
 "nbformat": 4,
 "nbformat_minor": 2
}
