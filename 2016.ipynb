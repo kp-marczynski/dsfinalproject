{
 "cells": [
  {
   "cell_type": "code",
   "execution_count": 15,
   "metadata": {},
   "outputs": [],
   "source": [
    "import numpy as np\n",
    "import pandas as pd\n",
    "import re\n",
    "import matplotlib.pyplot as plt\n",
    "import seaborn as sns\n",
    "\n",
    "from itertools import chain\n",
    "from sklearn.decomposition import PCA\n",
    "from sklearn.model_selection import train_test_split, cross_val_score, StratifiedKFold, RandomizedSearchCV\n",
    "from sklearn.linear_model import LinearRegression, RidgeCV, LassoCV\n",
    "from sklearn.metrics import mean_squared_error, confusion_matrix\n",
    "from xgboost import XGBRegressor\n",
    "from xgboost import plot_importance\n",
    "from sklearn.grid_search import GridSearchCV"
    "from sklearn.ensemble import BaggingRegressor, RandomForestRegressor"
   ]
  },
  {
   "cell_type": "code",
   "execution_count": 2,
   "metadata": {
    "code_folding": []
   },
   "outputs": [],
   "source": [
    "# Preprocessing data and helpers\n",
    "def get_first_number(val):\n",
    "    number = re.compile('[\\d,]+')\n",
    "    matched = number.match(str(val))\n",
    "    if matched:\n",
    "        return int(matched.group().replace(',', ''))\n",
    "    else:\n",
    "        return np.nan\n",
    "\n",
    "def dict_map(dict_to_use):\n",
    "    def mapper(val):\n",
    "        if val in dict_to_use:\n",
    "            return dict_to_use[val]\n",
    "        else:\n",
    "            return np.nan\n",
    "    return mapper\n",
    "\n",
    "def split_list(list_str):\n",
    "    return np.core.defchararray.split(list_str, sep='; ')\n",
    "\n",
    "def userlist_to_cols(col):\n",
    "    list_elems = col.astype(np.str).apply(split_list)\n",
    "    categories = set(chain.from_iterable(list_elems.values))\n",
    "    categories.discard('nan')\n",
    "    categories = pd.Series(list(categories))\n",
    "    \n",
    "    def category_to_cols(category):\n",
    "        return list_elems.map(lambda user_resp: category in user_resp)\\\n",
    "                         .rename('%s_%s' % (col.name, category))\\\n",
    "                         .astype('int8')\n",
    "    \n",
    "    new_cols = categories.map(category_to_cols)\n",
    "    return pd.concat(new_cols.values, axis=1)\n",
    "\n",
    "listvals = [\n",
    "    'self_identification',\n",
    "    'tech_do',\n",
    "    'tech_want',\n",
    "    'dev_environment',\n",
    "    'education',\n",
    "    'new_job_value',\n",
    "    'how_to_improve_interview_process',\n",
    "    'developer_challenges',\n",
    "    'why_stack_overflow',\n",
    "]\n",
    "\n",
    "number_parses = [\n",
    "    'company_size_range',\n",
    "    'team_size_range',\n",
    "    'women_on_team',\n",
    "    'hobby',\n",
    "    'rep_range',\n",
    "    'interview_likelihood',\n",
    "]\n",
    "\n",
    "to_drop = [\n",
    "    'age_range',\n",
    "    'experience_range',\n",
    "    'salary_range',\n",
    "]\n",
    "\n",
    "satisfaction_strs = {\n",
    "    'I love my job': 10,\n",
    "    'I\\'m somewhat satisfied with my job': 7.5,\n",
    "    'I\\'m neither satisfied nor dissatisfied with my job': 5,\n",
    "    'I\\'m somewhat dissatisfied with my job': 2.5,\n",
    "    'I hate my job': 0,\n",
    "}\n",
    "\n",
    "agree_strs = {\n",
    "    'Agree completely': 5,\n",
    "    'Agree somewhat': 4,\n",
    "    'Neutral': 3,\n",
    "    'Disagree somewhat': 2,\n",
    "    'Disagree completely': 1,\n",
    "}\n",
    "\n",
    "important_strs = {\n",
    "    'This is very important': 3,\n",
    "    'This is somewhat important': 2,\n",
    "    'I don\\'t care about this': 1,\n",
    "}"
   ]
  },
  {
   "cell_type": "code",
   "execution_count": 29,
   "metadata": {},
   "outputs": [],
   "source": [
    "# Utility functions\n",
    "def randomized_search(model, features, y, param_grid, n_iter=100, verbosity=2, scoring=\"neg_mean_squared_error\"):\n",
    "    kfold = StratifiedKFold(n_splits=10, shuffle=True, random_state=7)\n",
    "    random_search = RandomizedSearchCV(model, scoring=scoring, n_jobs=3, param_distributions=param_grid,\n",
    "                                   n_iter=n_iter, verbose=verbosity)\n",
    "    random_search.fit(features, y)\n",
    "    print(\"Params: \", random_search.best_params_)\n",
    "    print(\"Score: \", random_search.best_score_)\n",
    "    return random_search.best_params_, random_search.best_score_"
   ]
  },
  {
   "cell_type": "code",
   "execution_count": 5,
   "metadata": {
    "code_folding": []
   },
   "outputs": [
    {
     "name": "stdout",
     "output_type": "stream",
     "text": [
      "Columns with NaNs:\n",
      "age_midpoint\n",
      "experience_midpoint\n",
      "salary_midpoint\n",
      "big_mac_index\n",
      "programming_ability\n",
      "company_size_range\n",
      "team_size_range\n",
      "women_on_team\n",
      "hobby\n",
      "rep_range\n",
      "interview_likelihood\n",
      "agree_tech\n",
      "agree_notice\n",
      "agree_problemsolving\n",
      "agree_diversity\n",
      "agree_adblocker\n",
      "agree_alcohol\n",
      "agree_loveboss\n",
      "agree_nightcode\n",
      "agree_legacy\n",
      "agree_mars\n",
      "important_variety\n",
      "important_control\n",
      "important_sameend\n",
      "important_newtech\n",
      "important_buildnew\n",
      "important_buildexisting\n",
      "important_promotion\n",
      "important_companymission\n",
      "important_wfh\n",
      "important_ownoffice\n",
      "Filling with mean of column\n"
     ]
    }
   ],
   "source": [
    "# 2016 preproc\n",
    "data = pd.read_csv('data/2016.csv')\n",
    "data['job_satisfaction'] = data['job_satisfaction']\\\n",
    "                                    .map(satisfaction_strs).astype('float')\n",
    "data = data[data['job_satisfaction'].notnull()]\n",
    "\n",
    "data['gender_M'] = (data['gender'] == 'Male').astype('int8')\n",
    "data['gender_F'] = (data['gender'] == 'Female').astype('int8')\n",
    "to_drop.append('gender')\n",
    "\n",
    "to_drop.extend(listvals)\n",
    "for index in listvals:\n",
    "    data = pd.concat([data, userlist_to_cols(data[index])], axis=1)\n",
    "\n",
    "data[number_parses] = data[number_parses].applymap(get_first_number).astype('float')\n",
    "\n",
    "agree_keys = [index for index in data if 'agree_' in index]\n",
    "data[agree_keys] = data[agree_keys].applymap(dict_map(agree_strs))\n",
    "\n",
    "important_keys = [index for index in data if 'important_' in index]\n",
    "data[important_keys] = data[important_keys].applymap(dict_map(important_strs))\n",
    "\n",
    "data.drop(to_drop, axis=1, inplace=True)\n",
    "data = pd.get_dummies(data)\n",
    "\n",
    "print ('Columns with NaNs:')\n",
    "for key in data:\n",
    "    if data[key].isnull().any():\n",
    "        print (key)\n",
    "data.fillna(data.mean(), inplace=True)\n",
    "print ('Filling with mean of column')"
   ]
  },
  {
   "cell_type": "code",
   "execution_count": 9,
   "metadata": {},
   "outputs": [],
   "source": [
    "print ('Filling with mean of column')\n",
    "\n",
    "data = data.drop(['Unnamed: 0'], axis=1)"
   ]
  },
  {
   "cell_type": "markdown",
   "metadata": {},
   "source": [
    "## PCA"
   ]
  },
  {
   "cell_type": "code",
   "execution_count": 11,
   "metadata": {},
   "outputs": [
    {
     "data": {
      "text/plain": [
       "[<matplotlib.lines.Line2D at 0x7fb187bc0240>]"
      ]
     },
     "execution_count": 11,
     "metadata": {},
     "output_type": "execute_result"
    },
    {
     "data": {
      "image/png": "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\n",
      "text/plain": [
       "<matplotlib.figure.Figure at 0x7fb18771a8d0>"
      ]
     },
     "metadata": {},
     "output_type": "display_data"
    }
   ],
   "source": [
    "pca = PCA()\n",
    "x_pca = pca.fit_transform(data.drop(\"job_satisfaction\",1))\n",
    "\n",
    "x_train, x_test, y_train, y_test = train_test_split(x_pca, data.job_satisfaction, test_size=0.30, random_state=43)\n",
    "\n",
    "mse_rid = []\n",
    "model = RidgeCV(alphas=[0.0001, 0.00021, 0.3333, 0.5, .00001, 0.59, 1, 5, 100, 1000, 10000, 99999, 100000])\n",
    "for i in range(1,200):\n",
    "    fit = model.fit(x_train[:,:i], y_train)\n",
    "    x_sub = x_test[:,:i]\n",
    "    lin_incpt_pred = fit.predict(x_sub)\n",
    "    mse_rid.append(mean_squared_error(y_test, lin_incpt_pred))\n",
    "plt.plot(mse_rid)"
   ]
  },
  {
   "cell_type": "code",
   "execution_count": 16,
   "metadata": {},
   "outputs": [
    {
     "name": "stdout",
     "output_type": "stream",
     "text": [
      "4.34746205915\n"
     ]
    },
    {
     "data": {
      "image/png": "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\n",
      "text/plain": [
       "<matplotlib.figure.Figure at 0x7fb185320cc0>"
      ]
     },
     "metadata": {},
     "output_type": "display_data"
    }
   ],
   "source": [
    "num_feats = 160\n",
    "x_train, x_test, y_train, y_test = train_test_split(x_pca, data.job_satisfaction, test_size=0.30, random_state=43)\n",
    "fit = model.fit(x_train[:,:num_feats], y_train)\n",
    "pred = fit.predict(x_test[:,:num_feats])\n",
    "print(mean_squared_error(y_test, pred))\n",
    "\n",
    "plt.figure()\n",
    "confmat(y_test, pred)"
   ]
  },
  {
   "cell_type": "markdown",
   "metadata": {},
   "source": [
    "## XGB"
   ]
  },
  {
   "cell_type": "code",
   "execution_count": 6,
   "metadata": {},
   "outputs": [],
   "source": [
    "pla = [0,2.5,5,7.5,10]\n",
    "def arr(pred):\n",
    "    pred_bin = []\n",
    "    for i in pred:\n",
    "        if i >= 8.75:\n",
    "            pred_bin.append(\"10.0\")\n",
    "        elif i < 8.75 and i >= 6.25:\n",
    "            pred_bin.append(\"7.5\")\n",
    "        elif i < 6.25 and i >= 3.75:\n",
    "            pred_bin.append(\"5.0\")\n",
    "        elif i < 3.75 and i >= 1.25:\n",
    "            pred_bin.append(\"2.5\")\n",
    "        else:\n",
    "            pred_bin.append(\"0.0\")\n",
    "    return pred_bin\n",
    "\n",
    "def confmat(y_test, pred):\n",
    "    pred_bin = arr(pred.astype('float'))\n",
    "    y_test_bin = arr(y_test.astype('float'))\n",
    "\n",
    "    labels = ['0.0', '2.5', '5.0', '7.5', '10.0']\n",
    "    cm = confusion_matrix(y_test_bin,pred_bin, labels=labels)\n",
    "    cm = pd.DataFrame(cm, columns=labels, index=labels)\n",
    "    sns.heatmap(cm,annot=True,fmt=\"d\", xticklabels=True, yticklabels=True)\n",
    "    plt.show()"
   ]
  },
  {
   "cell_type": "code",
   "execution_count": 8,
   "metadata": {},
   "outputs": [],
   "source": [
    "x_train, x_test, y_train, y_test = train_test_split(data.drop(\"job_satisfaction\",1), data.job_satisfaction, test_size=0.30, random_state=43)"
   ]
  },
  {
   "cell_type": "code",
   "execution_count": null,
   "metadata": {},
   "outputs": [],
   "source": [
    "def xgb_search():\n",
    "    "
   ]
  },
  {
   "cell_type": "code",
   "execution_count": null,
   "metadata": {},
   "outputs": [],
   "source": [
    "model = XGBRegressor(\n",
    " learning_rate =0.1,\n",
    " n_estimators=1000,\n",
    " max_depth=5,\n",
    " min_child_weight=1,\n",
    " gamma=0,\n",
    " subsample=0.8,\n",
    " colsample_bytree=0.8,\n",
    " nthread=7,\n",
    " scale_pos_weight=1,\n",
    " seed=43)\n",
    "\n",
    "fit = model.fit(x_train, y_train)\n",
    "pred = fit.predict(x_test)\n",
    "\n",
    "print(mean_squared_error(y_test, pred))\n",
    "\n",
    "plt.figure()\n",
    "plot_importance(model, max_num_features=10)\n",
    "\n",
    "plt.figure()\n",
    "confmat(y_test, pred)"
   ]
  },
  {
   "cell_type": "code",
   "execution_count": 17,
   "metadata": {},
   "outputs": [
   ],
   "source": [
    "params_test = {\n",
    "    'learning_rate': [0.05,0.1,0.3],\n",
    "    'n_estimators': [1000],\n",
    "    'max_depth': [5],\n",
    "    'min_child_weight': [1],\n",
    "    'gamma': [0],\n",
    "    'subsample': [0.8],\n",
    "    'colsample_bytree': [0.8],\n",
    "    'scale_pos_weight': [1],\n",
    "    'seed': [43]\n",
    "}\n",
    "gsearch = GridSearchCV(XGBRegressor(), param_grid=params_test, cv=3, scoring='neg_mean_squared_error', verbose=1, n_jobs=-1, iid=False)\n",
    "\n",
    "gsearch.fit(x_train, y_train)\n",
    "gsearch.grid_scores_, gsearch.best_params_, gsearch.best_score_"
    "plot_importance(model, max_num_features=10)"
   ]
  },
  {
   "cell_type": "markdown",
   "metadata": {},
   "source": [
    "## Bagging"
   ]
  },
  {
   "cell_type": "code",
   "execution_count": 31,
   "metadata": {},
   "outputs": [
    {
     "name": "stdout",
     "output_type": "stream",
     "text": [
      "Fitting 3 folds for each of 100 candidates, totalling 300 fits\n"
     ]
    },
    {
     "name": "stderr",
     "output_type": "stream",
     "text": [
      "[Parallel(n_jobs=3)]: Done  44 tasks      | elapsed:  7.9min\n",
      "[Parallel(n_jobs=3)]: Done 194 tasks      | elapsed: 35.8min\n",
      "[Parallel(n_jobs=3)]: Done 300 out of 300 | elapsed: 92.6min finished\n"
     ]
    },
    {
     "name": "stdout",
     "output_type": "stream",
     "text": [
      "('Params: ', {'n_estimators': 100, 'max_samples': 0.8, 'bootstrap': False, 'bootstrap_features': False, 'max_features': 0.45})\n",
      "('Score: ', -4.581902595282789)\n",
      "({'n_estimators': 100, 'max_samples': 0.8, 'bootstrap': False, 'bootstrap_features': False, 'max_features': 0.45}, -4.581902595282789)\n"
     ]
    }
   ],
   "source": [
    "def bagging_search():\n",
    "    param_grid = {\n",
    "        'n_estimators': [10, 50, 100, 150, 200, 250], \n",
    "        'max_samples': [0.3, 0.4, 0.5, 0.6, 0.7, 0.8, 0.9, 1.0], \n",
    "        'max_features': [0.1, 0.15, 0.2, 0.25, 0.3, 0.35, 0.4, 0.45], \n",
    "        'bootstrap': [True, False], \n",
    "        'bootstrap_features': [True, False]\n",
    "    }\n",
    "    print(randomized_search(BaggingRegressor(), x_train, y_train, param_grid, n_iter=100, verbosity=1))\n",
    "bagging_search()"
   ]
  },
  {
   "cell_type": "code",
   "execution_count": 33,
   "metadata": {},
   "outputs": [],
   "source": [
    "def bagging_mse(x_train, x_test, y_train, y_test):\n",
    "    model = BaggingRegressor(n_estimators=100, \n",
    "                             max_samples=0.8, \n",
    "                             bootstrap=False, \n",
    "                             bootstrap_features=False, \n",
    "                             max_features=0.45)\n",
    "    model.fit(x_train, y_train)\n",
    "    return mean_squared_error(y_test, model.predict(x_test))\n",
    "\n",
    "bg_mse = bagging_mse(x_train, x_test, y_train, y_test)"
   ]
  },
  {
   "cell_type": "code",
   "execution_count": 34,
   "metadata": {},
   "outputs": [
    {
     "name": "stdout",
     "output_type": "stream",
     "text": [
      "('Bagging Regressor MSE: ', 4.677831155384176)\n"
     ]
    }
   ],
   "source": [
    "print(\"Bagging Regressor MSE: \", bg_mse)"
   ]
  },
  {
   "cell_type": "markdown",
   "metadata": {},
   "source": [
    "## Random Forests"
   ]
  },
  {
   "cell_type": "code",
   "execution_count": null,
   "metadata": {},
   "outputs": [],
   "source": [
    "def rf_search():\n",
    "    "
   ]
  },
  {
   "cell_type": "markdown",
   "metadata": {},
   "source": [
    "## StackNet<br>\n",
    "From https://github.com/kaz-Anova/StackNet "
   ]
  },
  {
   "cell_type": "code",
   "execution_count": 28,
   "metadata": {},
   "outputs": [],
   "source": [
    "x_train_pca = pd.DataFrame(x_train[:,:num_feats])\n",
    "y_train_pca = pd.DataFrame(y_train).reset_index().drop(\"index\",1)\n",
    "x_test_pca = pd.DataFrame(x_test[:,:num_feats])\n",
    "y_test_pca = pd.DataFrame(y_test).reset_index().drop(\"index\",1)\n",
    "train_new = pd.concat([y_train_pca, x_train_pca], 1)\n",
    "test_new = pd.concat([y_test_pca, x_test_pca], 1)\n",
    "# train_new.to_csv(\"data/trainSN_2016.csv\", index = False)\n",
    "# test_new.to_csv(\"data/testSN_2016.csv\", index = False)"
   ]
  },
  {
   "cell_type": "markdown",
   "metadata": {},
   "source": [
    "First Layer:<br>\n",
    "LogisticRegression Type:Liblinear C:2.0 threads:1 usescale:True maxim_Iteration:100 seed:1 verbose:false\n",
    "GradientBoostingForestRegressor rounding:6 estimators:1000 shrinkage:0.1 offset:0.00001 max_tree_size:-1 cut_off_subsample:1.0 max_depth:8 max_features:0.4 min_leaf:4.0 min_split:8.0 Objective:RMSE row_subsample:0.7 seed:1 threads:1 bags:1 verbose:false<br>\n",
    "RandomForestRegressor bootsrap:false max_tree_size:-1 cut_off_subsample:1.0 feature_subselection:1.0 rounding:6 estimators:100 offset:0.00001 max_depth:6 max_features:0.4 min_leaf:2.0 min_split:5.0 Objective:RMSE row_subsample:0.95 seed:1 threads:1 bags:1 verbose:false<br>\n",
    "multinnregressor usescale:True maxim_Iteration:50 Objective:RMSE tau:0.5 UseConstant:true C:0.000001 shuffle:true tolerance:0.01 learn_rate:0.01 smooth:0.1 h1:20 h2:20 connection_nonlinearity:Relu init_values:0.02 seed:1 threads:1 bags:1 verbose:false<br>\n",
    "LibFmRegressor maxim_Iteration:30 C:0.00001 C2:0.01 lfeatures:2 seed:1 usescale:True init_values:0.1 learn_rate:0.03 smooth:10.1 verbose:false<br>\n",
    "GradientBoostingForestRegressor rounding:3 estimators:300 shrinkage:0.16 threads:1 cut_off_subsample:0.9 offset:0.1 max_depth:6 max_features:0.5 min_leaf:1.0 min_split:2.0 Objective:RMSE row_subsample:0.8 seed:1 verbose:false<br>\n",
    "LinearRegression Type:Routine C:0.01 RegularizationType:L1 threads:1 usescale:True seed:1 verbose:false<br>\n",
    "<br>\n",
    "Second Layer:<br>\n",
    "RandomForestRegressor rounding:12 estimators:1500 threads:5 max_depth:6 max_features:0.2 min_leaf:1.0 min_split:2.0 Objective:RMSE seed:1 verbose:false<br>\n",
    "<br>\n",
    "Resulted in RMSE: 3.167"
   ]
  },
  {
   "cell_type": "markdown",
   "metadata": {},
   "source": []
  },
  {
   "cell_type": "code",
   "execution_count": null,
   "metadata": {
    "collapsed": true
   },
   "outputs": [],
   "source": [
    "# data contains a DataFrame with no NaNs, all numbers.\n",
    "# We're trying to predict the \"job_satisfaction\" column."
   ]
  }
 ],
 "metadata": {
  "kernelspec": {
   "display_name": "Python 2",
   "language": "python",
   "name": "python2"
  },
  "language_info": {
   "codemirror_mode": {
    "name": "ipython",
    "version": 2
   },
   "file_extension": ".py",
   "mimetype": "text/x-python",
   "name": "python",
   "nbconvert_exporter": "python",
   "pygments_lexer": "ipython2",
   "version": "2.7.14"
  }
 },
 "nbformat": 4,
 "nbformat_minor": 2
}
