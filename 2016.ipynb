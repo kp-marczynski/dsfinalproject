{
 "cells": [
  {
   "cell_type": "code",
   "execution_count": 9,
   "metadata": {},
   "outputs": [],
   "source": [
    "import numpy as np\n",
    "import pandas as pd\n",
    "import re\n",
    "import matplotlib.pyplot as plt\n",
    "\n",
    "from itertools import chain\n",
    "from sklearn.decomposition import PCA\n",
    "from sklearn.model_selection import train_test_split, cross_val_score\n",
    "from sklearn.linear_model import LinearRegression, RidgeCV, LassoCV\n",
    "from sklearn.metrics import mean_squared_error"
   ]
  },
  {
   "cell_type": "code",
   "execution_count": 3,
   "metadata": {
    "code_folding": []
   },
   "outputs": [],
   "source": [
    "# Preprocessing data and helpers\n",
    "number = re.compile('[\\d,]+')\n",
    "def get_first_number(val):\n",
    "    matched = number.match(str(val))\n",
    "    if matched:\n",
    "        return int(matched.group().replace(',', ''))\n",
    "    else:\n",
    "        return np.nan\n",
    "\n",
    "def dict_map(dict_to_use):\n",
    "    def mapper(val):\n",
    "        if val in dict_to_use:\n",
    "            return dict_to_use[val]\n",
    "        else:\n",
    "            return np.nan\n",
    "\n",
    "    return mapper\n",
    "\n",
    "def split_list(list_str):\n",
    "    return np.core.defchararray.split(list_str, sep='; ')\n",
    "\n",
    "def userlist_to_cols(col):\n",
    "    list_elems = col.astype(np.str).apply(split_list)\n",
    "    categories = set(chain.from_iterable(list_elems.values))\n",
    "    categories.discard('nan')\n",
    "    categories = pd.Series(list(categories))\n",
    "    \n",
    "    def category_to_cols(category):\n",
    "        return list_elems.map(lambda user_resp: category in user_resp)\\\n",
    "                         .rename('%s_%s' % (col.name, category))\\\n",
    "                         .astype('int8')\n",
    "    \n",
    "    new_cols = categories.map(category_to_cols)\n",
    "    return pd.concat(new_cols.values, axis=1)\n",
    "\n",
    "listvals = [\n",
    "    'self_identification',\n",
    "    'tech_do',\n",
    "    'tech_want',\n",
    "    'dev_environment',\n",
    "    'education',\n",
    "    'new_job_value',\n",
    "    'how_to_improve_interview_process',\n",
    "    'developer_challenges',\n",
    "    'why_stack_overflow',\n",
    "]\n",
    "\n",
    "number_parses = [\n",
    "    'company_size_range',\n",
    "    'team_size_range',\n",
    "    'women_on_team',\n",
    "    'hobby',\n",
    "    'rep_range',\n",
    "    'interview_likelihood',\n",
    "]\n",
    "\n",
    "to_drop = [\n",
    "    'age_range',\n",
    "    'experience_range',\n",
    "    'salary_range',\n",
    "]\n",
    "\n",
    "satisfaction_strs = {\n",
    "    'I love my job': 10,\n",
    "    'I\\'m somewhat satisfied with my job': 7.5,\n",
    "    'I\\'m neither satisfied nor dissatisfied with my job': 5,\n",
    "    'I\\'m somewhat dissatisfied with my job': 2.5,\n",
    "    'I hate my job': 0,\n",
    "}\n",
    "\n",
    "agree_strs = {\n",
    "    'Agree completely': 5,\n",
    "    'Agree somewhat': 4,\n",
    "    'Neutral': 3,\n",
    "    'Disagree somewhat': 2,\n",
    "    'Disagree completely': 1,\n",
    "}\n",
    "\n",
    "important_strs = {\n",
    "    'This is very important': 3,\n",
    "    'This is somewhat important': 2,\n",
    "    'I don\\'t care about this': 1,\n",
    "}"
   ]
  },
  {
   "cell_type": "code",
   "execution_count": 4,
   "metadata": {
    "code_folding": []
   },
   "outputs": [
    {
     "name": "stdout",
     "output_type": "stream",
     "text": [
      "Columns with NaNs:\n",
      "age_midpoint\n",
      "experience_midpoint\n",
      "salary_midpoint\n",
      "big_mac_index\n",
      "programming_ability\n",
      "company_size_range\n",
      "team_size_range\n",
      "women_on_team\n",
      "hobby\n",
      "rep_range\n",
      "interview_likelihood\n",
      "agree_tech\n",
      "agree_notice\n",
      "agree_problemsolving\n",
      "agree_diversity\n",
      "agree_adblocker\n",
      "agree_alcohol\n",
      "agree_loveboss\n",
      "agree_nightcode\n",
      "agree_legacy\n",
      "agree_mars\n",
      "important_variety\n",
      "important_control\n",
      "important_sameend\n",
      "important_newtech\n",
      "important_buildnew\n",
      "important_buildexisting\n",
      "important_promotion\n",
      "important_companymission\n",
      "important_wfh\n",
      "important_ownoffice\n",
      "Filling with mean of column\n"
     ]
    }
   ],
   "source": [
    "# 2016 preproc\n",
    "data = pd.read_csv('data/2016.csv')\n",
    "data['job_satisfaction'] = data['job_satisfaction']\\\n",
    "                                    .map(satisfaction_strs).astype('float')\n",
    "data = data[data['job_satisfaction'].notnull()]\n",
    "\n",
    "data['gender_M'] = (data['gender'] == 'Male').astype('int8')\n",
    "data['gender_F'] = (data['gender'] == 'Female').astype('int8')\n",
    "to_drop.append('gender')\n",
    "\n",
    "to_drop.extend(listvals)\n",
    "for index in listvals:\n",
    "    data = pd.concat([data, userlist_to_cols(data[index])], axis=1)\n",
    "\n",
    "data[number_parses] = data[number_parses].applymap(get_first_number).astype('float')\n",
    "\n",
    "agree_keys = [index for index in data if 'agree_' in index]\n",
    "data[agree_keys] = data[agree_keys].applymap(dict_map(agree_strs))\n",
    "\n",
    "important_keys = [index for index in data if 'important_' in index]\n",
    "data[important_keys] = data[important_keys].applymap(dict_map(important_strs))\n",
    "\n",
    "data.drop(to_drop, axis=1, inplace=True)\n",
    "data = pd.get_dummies(data)\n",
    "\n",
    "print ('Columns with NaNs:')\n",
    "for key in data:\n",
    "    if data[key].isnull().any():\n",
    "        print (key)\n",
    "data.fillna(data.mean(), inplace=True)\n",
    "print ('Filling with mean of column')"
   ]
  },
  {
   "cell_type": "code",
   "execution_count": 5,
   "metadata": {},
   "outputs": [],
   "source": [
    "data = data.drop(['Unnamed: 0'], axis=1)"
   ]
  },
  {
   "cell_type": "code",
   "execution_count": 23,
   "metadata": {},
   "outputs": [
    {
     "data": {
      "text/plain": [
       "[<matplotlib.lines.Line2D at 0x7f769fa79898>]"
      ]
     },
     "execution_count": 23,
     "metadata": {},
     "output_type": "execute_result"
    },
    {
     "data": {
      "image/png": "[encoded data removed]",
      "text/plain": [
       "<matplotlib.figure.Figure at 0x7f76a4918048>"
      ]
     },
     "metadata": {},
     "output_type": "display_data"
    }
   ],
   "source": [
    "pca = PCA()\n",
    "x_pca = pca.fit_transform(data.drop(\"job_satisfaction\",1))\n",
    "\n",
    "x_train, x_test, y_train, y_test = train_test_split(x_pca, data.job_satisfaction, test_size=0.30, random_state=43)\n",
    "\n",
    "mse_rid = []\n",
    "model = RidgeCV(alphas=[0.0001, 0.00021, 0.3333, 0.5, .00001, 0.59, 1, 5, 100, 1000, 10000, 99999, 100000])\n",
    "for i in range(1,200):\n",
    "    fit = model.fit(x_train[:,:i], y_train)\n",
    "    x_sub = x_test[:,:i]\n",
    "    lin_incpt_pred = fit.predict(x_sub)\n",
    "    mse_rid.append(mean_squared_error(y_test, lin_incpt_pred))\n",
    "plt.plot(mse_rid)"
   ]
  },
  {
   "cell_type": "code",
   "execution_count": 39,
   "metadata": {},
   "outputs": [
    {
     "name": "stdout",
     "output_type": "stream",
     "text": [
      "4.34745979649\n"
     ]
    }
   ],
   "source": [
    "num_feats = 160\n",
    "x_train, x_test, y_train, y_test = train_test_split(x_pca, data.job_satisfaction, test_size=0.30, random_state=43)\n",
    "fit = model.fit(x_train[:,:num_feats], y_train)\n",
    "pred = fit.predict(x_test[:,:num_feats])\n",
    "print(mean_squared_error(y_test, pred))"
   ]
  },
  {
   "cell_type": "markdown",
   "metadata": {},
   "source": [
    "## XGB"
   ]
  },
  {
   "cell_type": "code",
   "execution_count": 38,
   "metadata": {},
   "outputs": [],
   "source": []
  },
  {
   "cell_type": "markdown",
   "metadata": {},
   "source": [
    "## StackNet<br>\n",
    "From https://github.com/kaz-Anova/StackNet "
   ]
  },
  {
   "cell_type": "code",
   "execution_count": 46,
   "metadata": {},
   "outputs": [],
   "source": [
    "x_train, x_test, y_train, y_test = train_test_split(data.drop(\"job_satisfaction\",1), data.job_satisfaction, test_size=0.30, random_state=43)\n",
    "train_new = pd.concat([y_train, x_train], 1)\n",
    "test_new = pd.concat([y_test, x_test], 1)\n",
    "test_new.head()\n",
    "train_new.to_csv(\"data/trainSN_2016.csv\", index = False)\n",
    "test_new.to_csv(\"data/testSN_2016.csv\", index = False)"
   ]
  },
  {
   "cell_type": "markdown",
   "metadata": {},
   "source": []
  },
  {
   "cell_type": "code",
   "execution_count": null,
   "metadata": {
    "collapsed": true
   },
   "outputs": [],
   "source": [
    "# data contains a DataFrame with no NaNs, all numbers.\n",
    "# We're trying to predict the \"job_satisfaction\" column."
   ]
  }
 ],
 "metadata": {
  "kernelspec": {
   "display_name": "Python 3",
   "language": "python",
   "name": "python3"
  },
  "language_info": {
   "codemirror_mode": {
    "name": "ipython",
    "version": 3
   },
   "file_extension": ".py",
   "mimetype": "text/x-python",
   "name": "python",
   "nbconvert_exporter": "python",
   "pygments_lexer": "ipython3",
   "version": "3.6.4"
  }
 },
 "nbformat": 4,
 "nbformat_minor": 2
}
